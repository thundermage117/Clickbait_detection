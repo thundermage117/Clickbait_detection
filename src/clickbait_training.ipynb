{
 "cells": [
  {
   "cell_type": "code",
   "execution_count": 38,
   "metadata": {},
   "outputs": [
    {
     "name": "stdout",
     "output_type": "stream",
     "text": [
      "The autoreload extension is already loaded. To reload it, use:\n",
      "  %reload_ext autoreload\n"
     ]
    }
   ],
   "source": [
    "import nltk\n",
    "from nltk.tokenize import word_tokenize\n",
    "from gensim.models import Word2Vec\n",
    "import pandas as pd\n",
    "import numpy as np\n",
    "# nltk.download()\n",
    "import torch\n",
    "import torch.nn as nn\n",
    "import torch.optim as optim\n",
    "from model import SimilarityAware,LSD,LSDA,cos_sim,loss_function,train,train2\n",
    "from input_functions import getVecDataFrame,extractData,getMaxSentLength,tokenizer\n",
    "import matplotlib.pyplot as plt\n",
    "from torchmetrics.classification import BinaryAccuracy\n",
    "\n",
    "%load_ext autoreload\n",
    "%autoreload 2\n"
   ]
  },
  {
   "cell_type": "code",
   "execution_count": 4,
   "metadata": {},
   "outputs": [],
   "source": [
    "regexp = nltk.tokenize.RegexpTokenizer('\\w+')\n",
    "word_lem= nltk.stem.WordNetLemmatizer()\n",
    "stopwords = nltk.corpus.stopwords.words(\"english\")"
   ]
  },
  {
   "cell_type": "code",
   "execution_count": 5,
   "metadata": {},
   "outputs": [
    {
     "data": {
      "text/html": [
       "<div>\n",
       "<style scoped>\n",
       "    .dataframe tbody tr th:only-of-type {\n",
       "        vertical-align: middle;\n",
       "    }\n",
       "\n",
       "    .dataframe tbody tr th {\n",
       "        vertical-align: top;\n",
       "    }\n",
       "\n",
       "    .dataframe thead th {\n",
       "        text-align: right;\n",
       "    }\n",
       "</style>\n",
       "<table border=\"1\" class=\"dataframe\">\n",
       "  <thead>\n",
       "    <tr style=\"text-align: right;\">\n",
       "      <th></th>\n",
       "      <th>index</th>\n",
       "      <th>postMedia</th>\n",
       "      <th>postText</th>\n",
       "      <th>id</th>\n",
       "      <th>targetCaptions</th>\n",
       "      <th>targetParagraphs</th>\n",
       "      <th>targetTitle</th>\n",
       "      <th>postTimestamp</th>\n",
       "      <th>targetKeywords</th>\n",
       "      <th>targetDescription</th>\n",
       "    </tr>\n",
       "  </thead>\n",
       "  <tbody>\n",
       "    <tr>\n",
       "      <th>0</th>\n",
       "      <td>17563</td>\n",
       "      <td>[]</td>\n",
       "      <td>[Panama Papers: Europol links 3,500 names to s...</td>\n",
       "      <td>804113781580328960</td>\n",
       "      <td>[Europol]</td>\n",
       "      <td>[Law enforcement agency analysis uncovers prob...</td>\n",
       "      <td>Panama Papers: Europol links 3,500 names to su...</td>\n",
       "      <td>Thu Dec 01 00:03:59 +0000 2016</td>\n",
       "      <td>European Union,Panama Papers,Organised crime,W...</td>\n",
       "      <td>Law enforcement agency analysis uncovers proba...</td>\n",
       "    </tr>\n",
       "    <tr>\n",
       "      <th>1</th>\n",
       "      <td>5855</td>\n",
       "      <td>[media/photo_804119509338640385.jpg]</td>\n",
       "      <td>[The key to truly great chicken soup]</td>\n",
       "      <td>804119512010424320</td>\n",
       "      <td>[Chicken Noodle Soup Warm and comforting, this...</td>\n",
       "      <td>[Warm and comforting, this soup is a classic t...</td>\n",
       "      <td>A Superior Chicken Soup</td>\n",
       "      <td>Thu Dec 01 00:26:46 +0000 2016</td>\n",
       "      <td>Cooking and Cookbooks,Soups,Poultry</td>\n",
       "      <td>For the best rendition of this American classi...</td>\n",
       "    </tr>\n",
       "    <tr>\n",
       "      <th>2</th>\n",
       "      <td>5854</td>\n",
       "      <td>[]</td>\n",
       "      <td>[Afghan policewomen face down their fears to s...</td>\n",
       "      <td>804121272967983104</td>\n",
       "      <td>[The battle to recruit women to the Afghan Pol...</td>\n",
       "      <td>[Afghanistan is one of the most dangerous plac...</td>\n",
       "      <td>100 Women 2016: On the frontline with the wome...</td>\n",
       "      <td>Thu Dec 01 00:33:45 +0000 2016</td>\n",
       "      <td></td>\n",
       "      <td>The Afghan women risking all to join the police.</td>\n",
       "    </tr>\n",
       "    <tr>\n",
       "      <th>3</th>\n",
       "      <td>1963</td>\n",
       "      <td>[]</td>\n",
       "      <td>[Conservatives are watching less football this...</td>\n",
       "      <td>804123103995580416</td>\n",
       "      <td>[BuzzFeed Hires Mondelez Marketing Executive, ...</td>\n",
       "      <td>[Explanations for this year’s sagging National...</td>\n",
       "      <td>Older Viewers and Conservatives Are Watching L...</td>\n",
       "      <td>Thu Dec 01 00:41:02 +0000 2016</td>\n",
       "      <td>nfl,ratings,american football,political,genera...</td>\n",
       "      <td>Many factors are dragging down NFL ratings, in...</td>\n",
       "    </tr>\n",
       "    <tr>\n",
       "      <th>4</th>\n",
       "      <td>19537</td>\n",
       "      <td>[media/photo_804125377400553474.jpg]</td>\n",
       "      <td>[Richard Sherman weighs in on Cam Newton’s str...</td>\n",
       "      <td>804126501117435904</td>\n",
       "      <td>[Richard Sherman Says 'Karma' Caught Up to Cam...</td>\n",
       "      <td>[Seattle Seahawks cornerback Richard Sherman m...</td>\n",
       "      <td>Seattle Seahawks Richard Sherman Says 'Karma' ...</td>\n",
       "      <td>Thu Dec 01 00:54:32 +0000 2016</td>\n",
       "      <td>Football, NFL, NFC West, Seattle Seahawks, Bre...</td>\n",
       "      <td>Seattle Seahawks news, rumors, scores, schedul...</td>\n",
       "    </tr>\n",
       "  </tbody>\n",
       "</table>\n",
       "</div>"
      ],
      "text/plain": [
       "   index                             postMedia  \\\n",
       "0  17563                                    []   \n",
       "1   5855  [media/photo_804119509338640385.jpg]   \n",
       "2   5854                                    []   \n",
       "3   1963                                    []   \n",
       "4  19537  [media/photo_804125377400553474.jpg]   \n",
       "\n",
       "                                            postText                  id  \\\n",
       "0  [Panama Papers: Europol links 3,500 names to s...  804113781580328960   \n",
       "1              [The key to truly great chicken soup]  804119512010424320   \n",
       "2  [Afghan policewomen face down their fears to s...  804121272967983104   \n",
       "3  [Conservatives are watching less football this...  804123103995580416   \n",
       "4  [Richard Sherman weighs in on Cam Newton’s str...  804126501117435904   \n",
       "\n",
       "                                      targetCaptions  \\\n",
       "0                                          [Europol]   \n",
       "1  [Chicken Noodle Soup Warm and comforting, this...   \n",
       "2  [The battle to recruit women to the Afghan Pol...   \n",
       "3  [BuzzFeed Hires Mondelez Marketing Executive, ...   \n",
       "4  [Richard Sherman Says 'Karma' Caught Up to Cam...   \n",
       "\n",
       "                                    targetParagraphs  \\\n",
       "0  [Law enforcement agency analysis uncovers prob...   \n",
       "1  [Warm and comforting, this soup is a classic t...   \n",
       "2  [Afghanistan is one of the most dangerous plac...   \n",
       "3  [Explanations for this year’s sagging National...   \n",
       "4  [Seattle Seahawks cornerback Richard Sherman m...   \n",
       "\n",
       "                                         targetTitle  \\\n",
       "0  Panama Papers: Europol links 3,500 names to su...   \n",
       "1                           A Superior Chicken Soup    \n",
       "2  100 Women 2016: On the frontline with the wome...   \n",
       "3  Older Viewers and Conservatives Are Watching L...   \n",
       "4  Seattle Seahawks Richard Sherman Says 'Karma' ...   \n",
       "\n",
       "                    postTimestamp  \\\n",
       "0  Thu Dec 01 00:03:59 +0000 2016   \n",
       "1  Thu Dec 01 00:26:46 +0000 2016   \n",
       "2  Thu Dec 01 00:33:45 +0000 2016   \n",
       "3  Thu Dec 01 00:41:02 +0000 2016   \n",
       "4  Thu Dec 01 00:54:32 +0000 2016   \n",
       "\n",
       "                                      targetKeywords  \\\n",
       "0  European Union,Panama Papers,Organised crime,W...   \n",
       "1                Cooking and Cookbooks,Soups,Poultry   \n",
       "2                                                      \n",
       "3  nfl,ratings,american football,political,genera...   \n",
       "4  Football, NFL, NFC West, Seattle Seahawks, Bre...   \n",
       "\n",
       "                                   targetDescription  \n",
       "0  Law enforcement agency analysis uncovers proba...  \n",
       "1  For the best rendition of this American classi...  \n",
       "2   The Afghan women risking all to join the police.  \n",
       "3  Many factors are dragging down NFL ratings, in...  \n",
       "4  Seattle Seahawks news, rumors, scores, schedul...  "
      ]
     },
     "metadata": {},
     "output_type": "display_data"
    },
    {
     "data": {
      "text/html": [
       "<div>\n",
       "<style scoped>\n",
       "    .dataframe tbody tr th:only-of-type {\n",
       "        vertical-align: middle;\n",
       "    }\n",
       "\n",
       "    .dataframe tbody tr th {\n",
       "        vertical-align: top;\n",
       "    }\n",
       "\n",
       "    .dataframe thead th {\n",
       "        text-align: right;\n",
       "    }\n",
       "</style>\n",
       "<table border=\"1\" class=\"dataframe\">\n",
       "  <thead>\n",
       "    <tr style=\"text-align: right;\">\n",
       "      <th></th>\n",
       "      <th>index</th>\n",
       "      <th>truthJudgments</th>\n",
       "      <th>truthMean</th>\n",
       "      <th>id</th>\n",
       "      <th>truthClass</th>\n",
       "      <th>truthMedian</th>\n",
       "      <th>truthMode</th>\n",
       "    </tr>\n",
       "  </thead>\n",
       "  <tbody>\n",
       "    <tr>\n",
       "      <th>0</th>\n",
       "      <td>19537</td>\n",
       "      <td>[0.0, 0.0, 0.0, 0.33333333330000003, 0.0]</td>\n",
       "      <td>0.066667</td>\n",
       "      <td>804113781580328960</td>\n",
       "      <td>no-clickbait</td>\n",
       "      <td>0.000000</td>\n",
       "      <td>0.0</td>\n",
       "    </tr>\n",
       "    <tr>\n",
       "      <th>1</th>\n",
       "      <td>19536</td>\n",
       "      <td>[1.0, 0.0, 0.6666666666000001, 1.0, 1.0]</td>\n",
       "      <td>0.733333</td>\n",
       "      <td>804119512010424320</td>\n",
       "      <td>clickbait</td>\n",
       "      <td>1.000000</td>\n",
       "      <td>1.0</td>\n",
       "    </tr>\n",
       "    <tr>\n",
       "      <th>2</th>\n",
       "      <td>19535</td>\n",
       "      <td>[0.6666666666000001, 0.6666666666000001, 0.0, ...</td>\n",
       "      <td>0.333333</td>\n",
       "      <td>804121272967983104</td>\n",
       "      <td>no-clickbait</td>\n",
       "      <td>0.333333</td>\n",
       "      <td>0.0</td>\n",
       "    </tr>\n",
       "    <tr>\n",
       "      <th>3</th>\n",
       "      <td>19534</td>\n",
       "      <td>[0.0, 0.0, 0.0, 0.33333333330000003, 0.0]</td>\n",
       "      <td>0.066667</td>\n",
       "      <td>804123103995580416</td>\n",
       "      <td>no-clickbait</td>\n",
       "      <td>0.000000</td>\n",
       "      <td>0.0</td>\n",
       "    </tr>\n",
       "    <tr>\n",
       "      <th>4</th>\n",
       "      <td>19533</td>\n",
       "      <td>[0.0, 0.6666666666000001, 0.0, 0.0, 0.0]</td>\n",
       "      <td>0.133333</td>\n",
       "      <td>804126501117435904</td>\n",
       "      <td>no-clickbait</td>\n",
       "      <td>0.000000</td>\n",
       "      <td>0.0</td>\n",
       "    </tr>\n",
       "  </tbody>\n",
       "</table>\n",
       "</div>"
      ],
      "text/plain": [
       "   index                                     truthJudgments  truthMean  \\\n",
       "0  19537          [0.0, 0.0, 0.0, 0.33333333330000003, 0.0]   0.066667   \n",
       "1  19536           [1.0, 0.0, 0.6666666666000001, 1.0, 1.0]   0.733333   \n",
       "2  19535  [0.6666666666000001, 0.6666666666000001, 0.0, ...   0.333333   \n",
       "3  19534          [0.0, 0.0, 0.0, 0.33333333330000003, 0.0]   0.066667   \n",
       "4  19533           [0.0, 0.6666666666000001, 0.0, 0.0, 0.0]   0.133333   \n",
       "\n",
       "                   id    truthClass  truthMedian  truthMode  \n",
       "0  804113781580328960  no-clickbait     0.000000        0.0  \n",
       "1  804119512010424320     clickbait     1.000000        1.0  \n",
       "2  804121272967983104  no-clickbait     0.333333        0.0  \n",
       "3  804123103995580416  no-clickbait     0.000000        0.0  \n",
       "4  804126501117435904  no-clickbait     0.000000        0.0  "
      ]
     },
     "metadata": {},
     "output_type": "display_data"
    }
   ],
   "source": [
    "data = pd.read_json(\"../clickbait-17/clickbait17-validation-170630/instances.jsonl\", lines=True)\n",
    "labels = pd.read_json(\"../clickbait-17/clickbait17-validation-170630/truth.jsonl\", lines=True)\n",
    "\n",
    "data = data.sort_values(by=['id'])\n",
    "labels = labels.sort_values(by=['id'])\n",
    "\n",
    "data = data.reset_index()\n",
    "labels = labels.reset_index()\n",
    "\n",
    "display(data.iloc[0:5])\n",
    "display(labels.iloc[0:5])"
   ]
  },
  {
   "cell_type": "code",
   "execution_count": 6,
   "metadata": {},
   "outputs": [],
   "source": [
    "# train_webis=pd.read_json(\"./dataset/clickbait17-train-170331/instances.jsonl\",lines=True)\n",
    "columns=np.array(['id','postText','targetDescription','targetParagraphs'])\n",
    "train_hd_bd=data[columns]\n",
    "df2 = train_hd_bd.apply(lambda x: x.astype(str).str.lower())\n",
    "df2[\"id\"]=pd.to_numeric(df2[\"id\"])\n",
    "keys=df2.keys()\n",
    "\n",
    "for i in range(1,4):\n",
    "    df2[f\"{keys[i]}_proc\"]=df2[keys[i]].apply(word_lem.lemmatize)\n",
    "    df2[f\"{keys[i]}_proc\"]=df2[f\"{keys[i]}_proc\"].apply(regexp.tokenize)\n",
    "    df2[f\"{keys[i]}_proc\"]=df2[f\"{keys[i]}_proc\"].apply(lambda x: [word for word in x if word not in stopwords])\n"
   ]
  },
  {
   "cell_type": "code",
   "execution_count": 7,
   "metadata": {},
   "outputs": [
    {
     "name": "stdout",
     "output_type": "stream",
     "text": [
      "range(5, 7)\n"
     ]
    }
   ],
   "source": [
    "# df2_w2vTrain=df2[keys[:]].apply(lambda x: \",\".join(x.astype(str)),axis=1)\n",
    "# df2_w2vTrain=[ df2.row.sum() for row in df2.row]\n",
    "keys1=df2.keys()\n",
    "\n",
    "df2_w2vTrain=df2[keys1[len(keys)]]\n",
    "# print(keys[len(keys)-1])\n",
    "print(range(len(keys)+1,len(keys1)))\n",
    "for i in range(len(keys)+1,len(keys1)):\n",
    "    df2_w2vTrain=df2_w2vTrain+df2[keys1[i]]"
   ]
  },
  {
   "cell_type": "code",
   "execution_count": 8,
   "metadata": {},
   "outputs": [
    {
     "data": {
      "text/plain": [
       "0        [panama, papers, europol, links, 3, 500, names...\n",
       "1        [key, truly, great, chicken, soup, best, rendi...\n",
       "2        [afghan, policewomen, face, fears, serve, afgh...\n",
       "3        [conservatives, watching, less, football, seas...\n",
       "4        [richard, sherman, weighs, cam, newton, strugg...\n",
       "                               ...                        \n",
       "19533    [trump, agrees, majority, americans, ready, pr...\n",
       "19534    [trump, flip, flopped, supporters, upset, noti...\n",
       "19535    [inside, north, korea, secret, prisons, female...\n",
       "19536    [uk, response, modern, slavery, leaving, victi...\n",
       "19537    [facts, truly, upsetting, 90s, girls, log, sig...\n",
       "Length: 19538, dtype: object"
      ]
     },
     "metadata": {},
     "output_type": "display_data"
    }
   ],
   "source": [
    "display(df2_w2vTrain)\n",
    "# display(df2.iloc[0])"
   ]
  },
  {
   "cell_type": "code",
   "execution_count": 9,
   "metadata": {},
   "outputs": [
    {
     "data": {
      "text/plain": [
       "(36661207, 37194815)"
      ]
     },
     "execution_count": 9,
     "metadata": {},
     "output_type": "execute_result"
    }
   ],
   "source": [
    "word2vecLength=100\n",
    "modelW2v = Word2Vec(window=10, min_count=1, workers=4,vector_size=word2vecLength)\n",
    "modelW2v.build_vocab(df2_w2vTrain, progress_per=1000)\n",
    "modelW2v.train(df2_w2vTrain, total_examples=modelW2v.corpus_count, epochs=modelW2v.epochs)\n"
   ]
  },
  {
   "cell_type": "code",
   "execution_count": 10,
   "metadata": {},
   "outputs": [],
   "source": [
    "heading,body,labels_val=extractData(df2,labels)\n",
    "head_len=getMaxSentLength(heading)\n",
    "body_len=getMaxSentLength(body)\n",
    "norm_len=max(head_len,body_len)\n",
    "df_new,head_vec,body_vec=getVecDataFrame(heading,body,labels_val,norm_len,word2vecLength,modelW2v.wv)"
   ]
  },
  {
   "cell_type": "code",
   "execution_count": 11,
   "metadata": {},
   "outputs": [
    {
     "name": "stdout",
     "output_type": "stream",
     "text": [
      "torch.Size([19538, 96, 100]) torch.Size([19538, 96, 100]) (19538,)\n"
     ]
    }
   ],
   "source": [
    "print(head_vec.shape,body_vec.shape,labels_val.shape)"
   ]
  },
  {
   "cell_type": "code",
   "execution_count": 12,
   "metadata": {},
   "outputs": [
    {
     "name": "stdout",
     "output_type": "stream",
     "text": [
      "KeyedVectors<vector_size=100, 147438 keys>\n"
     ]
    }
   ],
   "source": [
    "# print(modelW2v.wv.index_to_key)\n",
    "# modelW2v.wv[]\n",
    "print(modelW2v.wv)"
   ]
  },
  {
   "cell_type": "code",
   "execution_count": 13,
   "metadata": {},
   "outputs": [],
   "source": [
    "# La,Lb=model(head,body)"
   ]
  },
  {
   "cell_type": "code",
   "execution_count": 14,
   "metadata": {},
   "outputs": [
    {
     "name": "stdout",
     "output_type": "stream",
     "text": [
      "torch.Size([96, 100]) torch.Size([96, 100]) torch.Size([19538])\n"
     ]
    }
   ],
   "source": [
    "head=df_new['Heading']\n",
    "body=df_new['Body']\n",
    "label=torch.FloatTensor(labels_val)\n",
    "print(head[0].shape,body[0].shape,label.shape)"
   ]
  },
  {
   "cell_type": "code",
   "execution_count": 15,
   "metadata": {},
   "outputs": [
    {
     "name": "stdout",
     "output_type": "stream",
     "text": [
      "torch.Size([19538])\n"
     ]
    }
   ],
   "source": [
    "# head_np=df_new['Heading'].to_numpy()\n",
    "# print(head_np.shape)\n",
    "print(label.shape)"
   ]
  },
  {
   "cell_type": "code",
   "execution_count": 16,
   "metadata": {},
   "outputs": [],
   "source": [
    "Hin=100\n",
    "Hout=100\n",
    "# model=LSD(Hin,Hout)\n",
    "\n",
    "# head=torch.randn(1,23,Hin)\n",
    "# body=torch.randn(1,50,Hin)\n",
    "# print(head.shape)"
   ]
  },
  {
   "cell_type": "code",
   "execution_count": 17,
   "metadata": {},
   "outputs": [],
   "source": [
    "# label=torch.FloatTensor([[1]])\n",
    "device = torch.device('cuda' if torch.cuda.is_available() else 'cpu')\n"
   ]
  },
  {
   "cell_type": "code",
   "execution_count": 18,
   "metadata": {},
   "outputs": [],
   "source": [
    "# model=model.to(device)"
   ]
  },
  {
   "cell_type": "code",
   "execution_count": 19,
   "metadata": {},
   "outputs": [],
   "source": [
    "head_vec=head_vec.to(device)\n"
   ]
  },
  {
   "cell_type": "code",
   "execution_count": 20,
   "metadata": {},
   "outputs": [],
   "source": [
    "body_vec=body_vec.to(device)\n",
    "label=label.to(device)"
   ]
  },
  {
   "cell_type": "code",
   "execution_count": 21,
   "metadata": {},
   "outputs": [],
   "source": [
    "# train(model,head_vec,body_vec,label,n_epochs=1000,lr=0.001)"
   ]
  },
  {
   "cell_type": "code",
   "execution_count": 41,
   "metadata": {},
   "outputs": [],
   "source": [
    "model2=LSDA(in_size=Hin,hidden_size=120,K_size=60,g_and_l=True,n_layers=2)\n",
    "model2=model2.to(device)"
   ]
  },
  {
   "cell_type": "code",
   "execution_count": 42,
   "metadata": {},
   "outputs": [
    {
     "name": "stdout",
     "output_type": "stream",
     "text": [
      "Epoch:0::Loss=1.2727265357971191,lossL:0.680693507194519\n",
      "Epoch:1::Loss=1.363885521888733,lossL:0.6788792610168457\n",
      "Epoch:2::Loss=1.6222608089447021,lossL:0.6803292632102966\n",
      "Epoch:3::Loss=1.3460843563079834,lossL:0.6758553385734558\n",
      "Epoch:4::Loss=1.3247798681259155,lossL:0.6754977703094482\n",
      "Epoch:5::Loss=1.2065131664276123,lossL:0.6559842824935913\n",
      "Epoch:6::Loss=1.3297688961029053,lossL:0.6521688103675842\n",
      "Epoch:7::Loss=1.0716583728790283,lossL:0.5876727104187012\n",
      "Epoch:8::Loss=0.9001078605651855,lossL:0.48504653573036194\n",
      "Epoch:9::Loss=1.1644024848937988,lossL:0.6535101532936096\n",
      "Epoch:10::Loss=0.9189494848251343,lossL:0.4735875427722931\n",
      "Epoch:11::Loss=1.0718563795089722,lossL:0.5638744235038757\n",
      "Epoch:12::Loss=1.0546571016311646,lossL:0.5543064475059509\n",
      "Epoch:13::Loss=0.9225785136222839,lossL:0.4460960030555725\n",
      "Epoch:14::Loss=1.2167946100234985,lossL:0.5971894860267639\n",
      "Epoch:15::Loss=1.1190794706344604,lossL:0.5791811943054199\n",
      "Epoch:16::Loss=0.9786651730537415,lossL:0.5159339308738708\n",
      "Epoch:17::Loss=1.0409241914749146,lossL:0.5463542342185974\n",
      "Epoch:18::Loss=1.0494099855422974,lossL:0.5394808650016785\n",
      "Epoch:19::Loss=1.3448638916015625,lossL:0.6812246441841125\n",
      "Epoch:20::Loss=0.942296028137207,lossL:0.47605037689208984\n",
      "Epoch:21::Loss=1.1151551008224487,lossL:0.5870739817619324\n",
      "Epoch:22::Loss=0.9939740896224976,lossL:0.5009280443191528\n",
      "Epoch:23::Loss=0.9660592079162598,lossL:0.4770623743534088\n",
      "Epoch:24::Loss=0.6510834693908691,lossL:0.3215951919555664\n",
      "Epoch:25::Loss=1.020985722541809,lossL:0.5304369926452637\n",
      "Epoch:26::Loss=0.9384669661521912,lossL:0.46996012330055237\n",
      "Epoch:27::Loss=0.7065094709396362,lossL:0.32434460520744324\n",
      "Epoch:28::Loss=0.7199025750160217,lossL:0.3511964678764343\n",
      "Epoch:29::Loss=0.5081628561019897,lossL:0.2272922396659851\n",
      "Epoch:30::Loss=0.8422002792358398,lossL:0.43969762325286865\n",
      "Epoch:31::Loss=1.159611463546753,lossL:0.5971397757530212\n",
      "Epoch:32::Loss=1.042111873626709,lossL:0.5172011852264404\n",
      "Epoch:33::Loss=0.756868839263916,lossL:0.3566362261772156\n",
      "Epoch:34::Loss=1.0680880546569824,lossL:0.5413379669189453\n",
      "Epoch:35::Loss=0.6131055355072021,lossL:0.2998218834400177\n",
      "Epoch:36::Loss=0.8084911108016968,lossL:0.40957173705101013\n",
      "Epoch:37::Loss=0.9922109246253967,lossL:0.5028995871543884\n",
      "Epoch:38::Loss=0.8652331829071045,lossL:0.4183548092842102\n",
      "Epoch:39::Loss=0.7920604944229126,lossL:0.41657736897468567\n",
      "Epoch:40::Loss=1.2998814582824707,lossL:0.6715659499168396\n",
      "Epoch:41::Loss=0.9507088661193848,lossL:0.4826360046863556\n",
      "Epoch:42::Loss=0.9029504060745239,lossL:0.45695194602012634\n",
      "Epoch:43::Loss=0.9621561765670776,lossL:0.4994167387485504\n",
      "Epoch:44::Loss=1.0095984935760498,lossL:0.5273485779762268\n",
      "Epoch:45::Loss=1.0042216777801514,lossL:0.5252216458320618\n",
      "Epoch:46::Loss=0.8340141773223877,lossL:0.4296662509441376\n",
      "Epoch:47::Loss=1.0202112197875977,lossL:0.5044643878936768\n",
      "Epoch:48::Loss=0.7937949895858765,lossL:0.3881196677684784\n",
      "Epoch:49::Loss=1.0248557329177856,lossL:0.5311155319213867\n",
      "Epoch:50::Loss=1.0888895988464355,lossL:0.5555267930030823\n",
      "Epoch:51::Loss=0.83111172914505,lossL:0.4259008467197418\n",
      "Epoch:52::Loss=0.7228152751922607,lossL:0.3615773022174835\n",
      "Epoch:53::Loss=0.6508909463882446,lossL:0.3206922113895416\n",
      "Epoch:54::Loss=0.7875047922134399,lossL:0.4038790464401245\n",
      "Epoch:55::Loss=0.8502731323242188,lossL:0.4178610146045685\n",
      "Epoch:56::Loss=0.9886783361434937,lossL:0.4958716928958893\n",
      "Epoch:57::Loss=0.7304662466049194,lossL:0.35211217403411865\n",
      "Epoch:58::Loss=0.9671949148178101,lossL:0.49308377504348755\n",
      "Epoch:59::Loss=0.7788543701171875,lossL:0.39949744939804077\n",
      "Epoch:60::Loss=0.62480628490448,lossL:0.30624669790267944\n",
      "Epoch:61::Loss=0.7040155529975891,lossL:0.3442680239677429\n",
      "Epoch:62::Loss=1.1990082263946533,lossL:0.6295506358146667\n",
      "Epoch:63::Loss=1.0731208324432373,lossL:0.5544661283493042\n",
      "Epoch:64::Loss=0.975332498550415,lossL:0.4946992099285126\n",
      "Epoch:65::Loss=1.134068489074707,lossL:0.5934282541275024\n",
      "Epoch:66::Loss=1.0265460014343262,lossL:0.527511715888977\n",
      "Epoch:67::Loss=0.8804031014442444,lossL:0.462727427482605\n",
      "Epoch:68::Loss=1.1766570806503296,lossL:0.6045157313346863\n",
      "Epoch:69::Loss=0.6045289635658264,lossL:0.30139589309692383\n",
      "Epoch:70::Loss=0.8033227920532227,lossL:0.41132259368896484\n",
      "Epoch:71::Loss=0.9441028237342834,lossL:0.4713411033153534\n",
      "Epoch:72::Loss=0.7342870831489563,lossL:0.365931898355484\n",
      "Epoch:73::Loss=0.8131816387176514,lossL:0.40041324496269226\n",
      "Epoch:74::Loss=1.2840994596481323,lossL:0.67146897315979\n",
      "Epoch:75::Loss=0.9220594763755798,lossL:0.47272828221321106\n",
      "Epoch:76::Loss=0.7546581625938416,lossL:0.38315582275390625\n",
      "Epoch:77::Loss=0.9057092070579529,lossL:0.45342522859573364\n",
      "Epoch:78::Loss=0.8784336447715759,lossL:0.4427803158760071\n",
      "Epoch:79::Loss=0.9092086553573608,lossL:0.46463194489479065\n",
      "Epoch:80::Loss=1.1259602308273315,lossL:0.5763161182403564\n",
      "Epoch:81::Loss=0.8229056596755981,lossL:0.4125784635543823\n",
      "Epoch:82::Loss=0.7723566293716431,lossL:0.3863876760005951\n",
      "Epoch:83::Loss=0.7808192372322083,lossL:0.3849655091762543\n",
      "Epoch:84::Loss=0.7981496453285217,lossL:0.40749210119247437\n",
      "Epoch:85::Loss=0.9208700656890869,lossL:0.4743465185165405\n",
      "Epoch:86::Loss=0.8331162333488464,lossL:0.4186733663082123\n",
      "Epoch:87::Loss=0.8657486438751221,lossL:0.4314865469932556\n",
      "Epoch:88::Loss=1.0252490043640137,lossL:0.5126001238822937\n",
      "Epoch:89::Loss=0.8645451664924622,lossL:0.4401702880859375\n",
      "Epoch:90::Loss=1.0394489765167236,lossL:0.5333960056304932\n",
      "Epoch:91::Loss=0.8514066338539124,lossL:0.42838001251220703\n",
      "Epoch:92::Loss=0.9635927677154541,lossL:0.49349305033683777\n",
      "Epoch:93::Loss=1.015164852142334,lossL:0.5168668031692505\n",
      "Epoch:94::Loss=0.9287707805633545,lossL:0.4634023904800415\n",
      "Epoch:95::Loss=0.7877545356750488,lossL:0.3957185745239258\n",
      "Epoch:96::Loss=0.6682159304618835,lossL:0.3429296016693115\n",
      "Epoch:97::Loss=0.8453296422958374,lossL:0.4209209680557251\n",
      "Epoch:98::Loss=0.9338540434837341,lossL:0.4799666106700897\n",
      "Epoch:99::Loss=0.7696009874343872,lossL:0.38994041085243225\n",
      "Epoch:100::Loss=0.8567953109741211,lossL:0.42850300669670105\n",
      "Epoch:101::Loss=0.9211220741271973,lossL:0.44996216893196106\n",
      "Epoch:102::Loss=0.8193501830101013,lossL:0.41038089990615845\n",
      "Epoch:103::Loss=1.0561836957931519,lossL:0.5353652238845825\n",
      "Epoch:104::Loss=0.9342303276062012,lossL:0.47320592403411865\n",
      "Epoch:105::Loss=0.8375607132911682,lossL:0.43225061893463135\n",
      "Epoch:106::Loss=0.6800580620765686,lossL:0.3359350860118866\n",
      "Epoch:107::Loss=0.8856842517852783,lossL:0.44713202118873596\n",
      "Epoch:108::Loss=1.00111722946167,lossL:0.5068849325180054\n",
      "Epoch:109::Loss=1.0925939083099365,lossL:0.561950147151947\n",
      "Epoch:110::Loss=0.7965928316116333,lossL:0.3954921364784241\n",
      "Epoch:111::Loss=0.7613729238510132,lossL:0.37416210770606995\n",
      "Epoch:112::Loss=1.037381649017334,lossL:0.5125877261161804\n",
      "Epoch:113::Loss=0.9438921213150024,lossL:0.4745631515979767\n",
      "Epoch:114::Loss=0.5020029544830322,lossL:0.25210893154144287\n",
      "Epoch:115::Loss=0.764541506767273,lossL:0.38747265934944153\n",
      "Epoch:116::Loss=0.8332522511482239,lossL:0.4174486994743347\n",
      "Epoch:117::Loss=1.1457395553588867,lossL:0.570989727973938\n",
      "Epoch:118::Loss=0.7715718150138855,lossL:0.3839934468269348\n",
      "Epoch:119::Loss=1.0076215267181396,lossL:0.49568402767181396\n",
      "Epoch:120::Loss=0.9308577179908752,lossL:0.4782094657421112\n",
      "Epoch:121::Loss=0.8169708251953125,lossL:0.4111812710762024\n",
      "Epoch:122::Loss=0.9990984797477722,lossL:0.49952003359794617\n",
      "Epoch:123::Loss=0.7215316891670227,lossL:0.35801026225090027\n",
      "Epoch:124::Loss=0.7786768674850464,lossL:0.38589024543762207\n",
      "Epoch:125::Loss=1.073996663093567,lossL:0.552076518535614\n",
      "Epoch:126::Loss=0.9095498323440552,lossL:0.4670127034187317\n",
      "Epoch:127::Loss=0.7239903211593628,lossL:0.3564909100532532\n",
      "Epoch:128::Loss=0.9647389650344849,lossL:0.4761706590652466\n",
      "Epoch:129::Loss=0.9294126033782959,lossL:0.45307162404060364\n",
      "Epoch:130::Loss=1.0033035278320312,lossL:0.500298023223877\n",
      "Epoch:131::Loss=0.739975094795227,lossL:0.3653893768787384\n",
      "Epoch:132::Loss=1.0402483940124512,lossL:0.5259661674499512\n",
      "Epoch:133::Loss=1.08991539478302,lossL:0.5493355393409729\n",
      "Epoch:134::Loss=0.892210841178894,lossL:0.44809412956237793\n",
      "Epoch:135::Loss=0.967517614364624,lossL:0.49315890669822693\n",
      "Epoch:136::Loss=0.6374585628509521,lossL:0.3148975074291229\n",
      "Epoch:137::Loss=0.8621094226837158,lossL:0.43457654118537903\n",
      "Epoch:138::Loss=0.9530418515205383,lossL:0.4919208586215973\n",
      "Epoch:139::Loss=0.9741945266723633,lossL:0.4952544867992401\n",
      "Epoch:140::Loss=0.8158032894134521,lossL:0.4045628607273102\n",
      "Epoch:141::Loss=0.6750881671905518,lossL:0.34549644589424133\n",
      "Epoch:142::Loss=0.6015424728393555,lossL:0.29817909002304077\n",
      "Epoch:143::Loss=0.81084144115448,lossL:0.4027096927165985\n",
      "Epoch:144::Loss=0.9050423502922058,lossL:0.4573783576488495\n",
      "Epoch:145::Loss=0.6960419416427612,lossL:0.355724036693573\n",
      "Epoch:146::Loss=0.7856466174125671,lossL:0.3962075710296631\n",
      "Epoch:147::Loss=0.880810558795929,lossL:0.4447600543498993\n",
      "Epoch:148::Loss=0.7990262508392334,lossL:0.3986634910106659\n",
      "Epoch:149::Loss=0.7755669355392456,lossL:0.38595449924468994\n",
      "Epoch:150::Loss=0.8020920753479004,lossL:0.3937424123287201\n",
      "Epoch:151::Loss=1.04496169090271,lossL:0.5264140963554382\n",
      "Epoch:152::Loss=0.7942894697189331,lossL:0.3984045386314392\n",
      "Epoch:153::Loss=1.1895256042480469,lossL:0.606074333190918\n",
      "Epoch:154::Loss=0.7400087714195251,lossL:0.37516483664512634\n",
      "Epoch:155::Loss=0.5791566371917725,lossL:0.28090766072273254\n",
      "Epoch:156::Loss=1.0486557483673096,lossL:0.5270780324935913\n",
      "Epoch:157::Loss=0.9426099061965942,lossL:0.47263428568840027\n",
      "Epoch:158::Loss=0.9272325038909912,lossL:0.4714547395706177\n",
      "Epoch:159::Loss=0.7109902501106262,lossL:0.36124858260154724\n",
      "Epoch:160::Loss=1.1754655838012695,lossL:0.6026113033294678\n",
      "Epoch:161::Loss=0.8929938077926636,lossL:0.45524027943611145\n",
      "Epoch:162::Loss=0.8557581901550293,lossL:0.4278844892978668\n",
      "Epoch:163::Loss=0.7404816150665283,lossL:0.3777962923049927\n",
      "Epoch:164::Loss=0.8593672513961792,lossL:0.43643897771835327\n",
      "Epoch:165::Loss=0.9786107540130615,lossL:0.4903542995452881\n",
      "Epoch:166::Loss=0.8235948085784912,lossL:0.4111969470977783\n",
      "Epoch:167::Loss=0.7991523742675781,lossL:0.4057632386684418\n",
      "Epoch:168::Loss=0.8379038572311401,lossL:0.4247052073478699\n",
      "Epoch:169::Loss=0.8094669580459595,lossL:0.4055768549442291\n",
      "Epoch:170::Loss=0.868113100528717,lossL:0.44059956073760986\n",
      "Epoch:171::Loss=0.697215735912323,lossL:0.3565828800201416\n",
      "Epoch:172::Loss=0.923001766204834,lossL:0.4553672671318054\n",
      "Epoch:173::Loss=0.8849618434906006,lossL:0.45212695002555847\n",
      "Epoch:174::Loss=1.029170036315918,lossL:0.5353913307189941\n",
      "Epoch:175::Loss=0.7892833352088928,lossL:0.3992179036140442\n",
      "Epoch:176::Loss=0.9211696982383728,lossL:0.4614035487174988\n",
      "Epoch:177::Loss=0.581011176109314,lossL:0.28879594802856445\n",
      "Epoch:178::Loss=0.5722604990005493,lossL:0.27714335918426514\n",
      "Epoch:179::Loss=0.8258340358734131,lossL:0.41246238350868225\n",
      "Epoch:180::Loss=1.162527322769165,lossL:0.5861340165138245\n",
      "Epoch:181::Loss=1.018075704574585,lossL:0.5163583159446716\n",
      "Epoch:182::Loss=1.0953364372253418,lossL:0.5595670342445374\n",
      "Epoch:183::Loss=0.7421423196792603,lossL:0.3644581735134125\n",
      "Epoch:184::Loss=0.7178837060928345,lossL:0.3508082330226898\n",
      "Epoch:185::Loss=0.9763439893722534,lossL:0.5072407126426697\n",
      "Epoch:186::Loss=0.7732531428337097,lossL:0.37874749302864075\n",
      "Epoch:187::Loss=0.7801627516746521,lossL:0.38930508494377136\n",
      "Epoch:188::Loss=0.9100647568702698,lossL:0.44401198625564575\n",
      "Epoch:189::Loss=0.7154636383056641,lossL:0.3560423254966736\n",
      "Epoch:190::Loss=0.7505471706390381,lossL:0.3837480843067169\n",
      "Epoch:191::Loss=0.897835373878479,lossL:0.4493753910064697\n",
      "Epoch:192::Loss=0.7667719125747681,lossL:0.3892778158187866\n",
      "Epoch:193::Loss=0.9825071096420288,lossL:0.5072975754737854\n",
      "Epoch:194::Loss=0.8812172412872314,lossL:0.4390057325363159\n",
      "Epoch:195::Loss=0.7401059865951538,lossL:0.3668663799762726\n",
      "Epoch:196::Loss=0.9455719590187073,lossL:0.4722438156604767\n",
      "Epoch:197::Loss=0.7538254261016846,lossL:0.3804086446762085\n",
      "Epoch:198::Loss=0.7104945182800293,lossL:0.3551539480686188\n",
      "Epoch:199::Loss=0.9547420740127563,lossL:0.48738807439804077\n"
     ]
    }
   ],
   "source": [
    "losses,accuracies,f1_score,recall,precision=train2(model2,head_vec,body_vec,label,batch_size=50,n_epochs=200,lr=0.01,gamma=0.5)"
   ]
  },
  {
   "cell_type": "code",
   "execution_count": 24,
   "metadata": {},
   "outputs": [],
   "source": [
    "torch.save(model2.state_dict(), 'checkpoint_nlayer_2.pth')"
   ]
  },
  {
   "cell_type": "code",
   "execution_count": 25,
   "metadata": {},
   "outputs": [
    {
     "name": "stdout",
     "output_type": "stream",
     "text": [
      "tensor([0., 1., 0., 0., 0., 0., 1., 0., 0., 0.], device='cuda:0')\n"
     ]
    }
   ],
   "source": [
    "print(label[:10])"
   ]
  },
  {
   "cell_type": "code",
   "execution_count": 26,
   "metadata": {},
   "outputs": [
    {
     "name": "stdout",
     "output_type": "stream",
     "text": [
      "torch.Size([10, 96, 100])\n"
     ]
    }
   ],
   "source": [
    "print(head_vec[:10,...].shape)\n",
    "idxs=torch.randint(high=head_vec.shape[0],size=(1000,))\n",
    "P,Lh,Lb=model2(head_vec[idxs,...],body_vec[idxs,...])"
   ]
  },
  {
   "cell_type": "code",
   "execution_count": 27,
   "metadata": {},
   "outputs": [
    {
     "name": "stdout",
     "output_type": "stream",
     "text": [
      "tensor([0, 0, 0, 0, 0, 0, 0, 0, 0, 0, 0, 0, 0, 0, 0, 0, 0, 0, 0, 0, 0, 0, 0, 0,\n",
      "        0, 0, 0, 0, 0, 0, 0, 0, 0, 0, 0, 0, 0, 0, 0, 0, 0, 0, 0, 0, 0, 0, 0, 0,\n",
      "        0, 0, 0, 0, 0, 0, 0, 0, 0, 0, 0, 0, 0, 0, 0, 0, 0, 0, 0, 0, 0, 0, 0, 0,\n",
      "        0, 0, 0, 0, 0, 0, 0, 0, 0, 0, 0, 0, 0, 0, 0, 0, 0, 0, 0, 0, 0, 0, 0, 0,\n",
      "        0, 0, 0, 0, 0, 0, 0, 0, 0, 0, 0, 0, 0, 0, 0, 0, 0, 0, 0, 0, 0, 0, 0, 0,\n",
      "        0, 0, 0, 0, 0, 0, 0, 0, 0, 0, 0, 0, 0, 0, 0, 0, 0, 0, 0, 0, 0, 0, 0, 0,\n",
      "        0, 0, 0, 0, 0, 0, 0, 0, 0, 0, 0, 0, 0, 0, 0, 0, 0, 0, 0, 0, 0, 0, 0, 0,\n",
      "        0, 0, 0, 0, 0, 0, 0, 0, 0, 0, 0, 0, 0, 0, 0, 0, 0, 0, 0, 0, 0, 0, 0, 0,\n",
      "        0, 0, 0, 0, 0, 0, 0, 0, 0, 0, 0, 0, 0, 0, 0, 0, 0, 0, 0, 0, 0, 0, 0, 0,\n",
      "        0, 0, 0, 0, 0, 0, 0, 0, 0, 0, 0, 0, 0, 0, 0, 0, 0, 0, 0, 0, 0, 0, 0, 0,\n",
      "        0, 0, 0, 0, 0, 0, 0, 0, 0, 0, 0, 0, 0, 0, 0, 0, 0, 0, 0, 0, 0, 0, 0, 0,\n",
      "        0, 0, 0, 0, 0, 0, 0, 0, 0, 0, 0, 0, 0, 0, 0, 0, 0, 0, 0, 0, 0, 0, 0, 0,\n",
      "        0, 0, 0, 0, 0, 0, 0, 0, 0, 0, 0, 0, 0, 0, 0, 0, 0, 0, 0, 0, 0, 0, 0, 0,\n",
      "        0, 0, 0, 0, 0, 0, 0, 0, 0, 0, 0, 0, 0, 0, 0, 0, 0, 0, 0, 0, 0, 0, 0, 0,\n",
      "        0, 0, 0, 0, 0, 0, 0, 0, 0, 0, 0, 0, 0, 0, 0, 0, 0, 0, 0, 0, 0, 0, 0, 0,\n",
      "        0, 0, 0, 0, 0, 0, 0, 0, 0, 0, 0, 0, 0, 0, 0, 0, 0, 0, 0, 0, 0, 0, 0, 0,\n",
      "        0, 0, 0, 0, 0, 0, 0, 0, 0, 0, 0, 0, 0, 0, 0, 0, 0, 0, 0, 0, 0, 0, 0, 0,\n",
      "        0, 0, 0, 0, 0, 0, 0, 0, 0, 0, 0, 0, 0, 0, 0, 0, 0, 0, 0, 0, 0, 0, 0, 0,\n",
      "        0, 0, 0, 0, 0, 0, 0, 0, 0, 0, 0, 0, 0, 0, 0, 0, 0, 0, 0, 0, 0, 0, 0, 0,\n",
      "        0, 0, 0, 0, 0, 0, 0, 0, 0, 0, 0, 0, 0, 0, 0, 0, 0, 0, 0, 0, 0, 0, 0, 0,\n",
      "        0, 0, 0, 0, 0, 0, 0, 0, 0, 0, 0, 0, 0, 0, 0, 0, 0, 0, 0, 0, 0, 0, 0, 0,\n",
      "        0, 0, 0, 0, 0, 0, 0, 0, 0, 0, 0, 0, 0, 0, 0, 0, 0, 0, 0, 0, 0, 0, 0, 0,\n",
      "        0, 0, 0, 0, 0, 0, 0, 0, 0, 0, 0, 0, 0, 0, 0, 0, 0, 0, 0, 0, 0, 0, 0, 0,\n",
      "        0, 0, 0, 0, 0, 0, 0, 0, 0, 0, 0, 0, 0, 0, 0, 0, 0, 0, 0, 0, 0, 0, 0, 0,\n",
      "        0, 0, 0, 0, 0, 0, 0, 0, 0, 0, 0, 0, 0, 0, 0, 0, 0, 0, 0, 0, 0, 0, 0, 0,\n",
      "        0, 0, 0, 0, 0, 0, 0, 0, 0, 0, 0, 0, 0, 0, 0, 0, 0, 0, 0, 0, 0, 0, 0, 0,\n",
      "        0, 0, 0, 0, 0, 0, 0, 0, 0, 0, 0, 0, 0, 0, 0, 0, 0, 0, 0, 0, 0, 0, 0, 0,\n",
      "        0, 0, 0, 0, 0, 0, 0, 0, 0, 0, 0, 0, 0, 0, 0, 0, 0, 0, 0, 0, 0, 0, 0, 0,\n",
      "        0, 0, 0, 0, 0, 0, 0, 0, 0, 0, 0, 0, 0, 0, 0, 0, 0, 0, 0, 0, 0, 0, 0, 0,\n",
      "        0, 0, 0, 0, 0, 0, 0, 0, 0, 0, 0, 0, 0, 0, 0, 0, 0, 0, 0, 0, 0, 0, 0, 0,\n",
      "        0, 0, 0, 0, 0, 0, 0, 0, 0, 0, 0, 0, 0, 0, 0, 0, 0, 0, 0, 0, 0, 0, 0, 0,\n",
      "        0, 0, 0, 0, 0, 0, 0, 0, 0, 0, 0, 0, 0, 0, 0, 0, 0, 0, 0, 0, 0, 0, 0, 0,\n",
      "        0, 0, 0, 0, 0, 0, 0, 0, 0, 0, 0, 0, 0, 0, 0, 0, 0, 0, 0, 0, 0, 0, 0, 0,\n",
      "        0, 0, 0, 0, 0, 0, 0, 0, 0, 0, 0, 0, 0, 0, 0, 0, 0, 0, 0, 0, 0, 0, 0, 0,\n",
      "        0, 0, 0, 0, 0, 0, 0, 0, 0, 0, 0, 0, 0, 0, 0, 0, 0, 0, 0, 0, 0, 0, 0, 0,\n",
      "        0, 0, 0, 0, 0, 0, 0, 0, 0, 0, 0, 0, 0, 0, 0, 0, 0, 0, 0, 0, 0, 0, 0, 0,\n",
      "        0, 0, 0, 0, 0, 0, 0, 0, 0, 0, 0, 0, 0, 0, 0, 0, 0, 0, 0, 0, 0, 0, 0, 0,\n",
      "        0, 0, 0, 0, 0, 0, 0, 0, 0, 0, 0, 0, 0, 0, 0, 0, 0, 0, 0, 0, 0, 0, 0, 0,\n",
      "        0, 0, 0, 0, 0, 0, 0, 0, 0, 0, 0, 0, 0, 0, 0, 0, 0, 0, 0, 0, 0, 0, 0, 0,\n",
      "        0, 0, 0, 0, 0, 0, 0, 0, 0, 0, 0, 0, 0, 0, 0, 0, 0, 0, 0, 0, 0, 0, 0, 0,\n",
      "        0, 0, 0, 0, 0, 0, 0, 0, 0, 0, 0, 0, 0, 0, 0, 0, 0, 0, 0, 0, 0, 0, 0, 0,\n",
      "        0, 0, 0, 0, 0, 0, 0, 0, 0, 0, 0, 0, 0, 0, 0, 0], device='cuda:0')\n",
      "tensor([0., 1., 0., 0., 0., 0., 1., 0., 0., 0., 0., 0., 1., 0., 0., 0., 0., 1.,\n",
      "        1., 0., 0., 0., 0., 0., 1., 0., 0., 0., 0., 0., 1., 0., 1., 0., 0., 0.,\n",
      "        0., 1., 1., 0., 0., 0., 0., 0., 0., 0., 0., 0., 0., 1., 0., 1., 0., 0.,\n",
      "        0., 0., 1., 0., 1., 1., 0., 0., 0., 0., 0., 0., 0., 1., 0., 0., 1., 0.,\n",
      "        0., 0., 0., 0., 1., 0., 1., 0., 1., 0., 0., 1., 0., 0., 0., 0., 1., 0.,\n",
      "        0., 1., 0., 0., 0., 0., 0., 0., 0., 0., 0., 0., 0., 0., 0., 0., 0., 0.,\n",
      "        0., 0., 0., 0., 0., 0., 1., 0., 0., 1., 0., 0., 1., 0., 0., 0., 0., 0.,\n",
      "        0., 0., 1., 0., 1., 0., 0., 0., 0., 0., 0., 0., 0., 0., 0., 1., 1., 0.,\n",
      "        1., 1., 0., 0., 0., 0., 0., 1., 0., 0., 0., 0., 0., 0., 0., 1., 0., 0.,\n",
      "        0., 0., 1., 1., 0., 0., 0., 1., 0., 1., 0., 0., 0., 0., 0., 0., 0., 1.,\n",
      "        0., 0., 0., 0., 0., 0., 1., 0., 0., 0., 0., 0., 0., 0., 0., 0., 0., 0.,\n",
      "        0., 0., 0., 0., 0., 0., 0., 0., 0., 0., 1., 0., 0., 0., 0., 1., 0., 0.,\n",
      "        0., 1., 0., 0., 0., 0., 0., 0., 0., 0., 0., 0., 0., 1., 1., 0., 0., 0.,\n",
      "        1., 0., 0., 0., 0., 1., 0., 0., 0., 1., 1., 0., 0., 0., 0., 1., 0., 0.,\n",
      "        0., 0., 1., 0., 0., 1., 0., 0., 0., 1., 0., 1., 0., 0., 0., 0., 0., 1.,\n",
      "        0., 0., 1., 0., 0., 1., 1., 0., 1., 1., 0., 1., 0., 1., 0., 0., 0., 1.,\n",
      "        0., 0., 0., 0., 0., 1., 1., 0., 0., 0., 1., 0., 0., 1., 0., 0., 0., 0.,\n",
      "        0., 0., 0., 0., 1., 0., 0., 0., 1., 0., 0., 1., 0., 1., 0., 1., 0., 0.,\n",
      "        1., 1., 1., 0., 0., 0., 1., 1., 0., 0., 1., 1., 1., 1., 0., 0., 0., 0.,\n",
      "        0., 0., 1., 1., 0., 0., 0., 0., 0., 0., 1., 0., 0., 0., 1., 0., 0., 1.,\n",
      "        1., 0., 0., 1., 0., 0., 0., 1., 0., 1., 0., 1., 1., 0., 0., 0., 1., 0.,\n",
      "        0., 0., 0., 0., 0., 1., 0., 1., 0., 0., 0., 1., 0., 0., 1., 0., 0., 0.,\n",
      "        0., 0., 0., 0., 1., 0., 0., 0., 0., 0., 1., 0., 0., 0., 0., 1., 0., 0.,\n",
      "        0., 0., 1., 1., 1., 0., 0., 1., 1., 0., 1., 0., 0., 0., 1., 1., 0., 0.,\n",
      "        0., 0., 0., 0., 0., 0., 0., 0., 0., 0., 0., 1., 0., 0., 1., 0., 1., 0.,\n",
      "        1., 1., 1., 0., 0., 1., 1., 0., 0., 0., 0., 1., 1., 0., 1., 1., 0., 0.,\n",
      "        0., 0., 0., 0., 0., 0., 0., 0., 0., 0., 0., 1., 0., 0., 0., 0., 1., 0.,\n",
      "        1., 0., 0., 0., 0., 0., 0., 1., 1., 1., 0., 0., 0., 0., 1., 0., 0., 0.,\n",
      "        1., 0., 1., 0., 0., 1., 0., 0., 0., 0., 1., 0., 1., 1., 0., 1., 0., 0.,\n",
      "        0., 0., 0., 0., 0., 1., 0., 0., 0., 0., 0., 1., 0., 0., 0., 0., 0., 0.,\n",
      "        0., 1., 0., 0., 0., 0., 1., 0., 0., 1., 0., 1., 0., 0., 0., 1., 1., 0.,\n",
      "        0., 0., 0., 0., 0., 0., 0., 1., 0., 0., 1., 0., 0., 0., 0., 0., 0., 0.,\n",
      "        0., 1., 0., 0., 0., 0., 0., 0., 1., 0., 0., 0., 0., 1., 1., 0., 1., 1.,\n",
      "        0., 0., 1., 0., 0., 0., 0., 0., 0., 0., 0., 0., 1., 1., 0., 0., 0., 1.,\n",
      "        0., 0., 0., 0., 0., 1., 0., 0., 1., 0., 1., 0., 1., 1., 0., 0., 0., 0.,\n",
      "        0., 0., 1., 0., 0., 0., 0., 1., 0., 0., 1., 1., 0., 0., 0., 0., 0., 0.,\n",
      "        0., 0., 0., 0., 1., 1., 0., 0., 0., 0., 0., 0., 0., 1., 0., 0., 1., 0.,\n",
      "        0., 1., 0., 0., 0., 0., 0., 0., 0., 0., 1., 0., 0., 0., 0., 0., 0., 0.,\n",
      "        0., 0., 0., 0., 1., 0., 1., 1., 0., 0., 1., 0., 0., 0., 0., 0., 0., 0.,\n",
      "        1., 0., 1., 0., 0., 0., 0., 1., 1., 1., 1., 0., 0., 0., 0., 0., 0., 0.,\n",
      "        1., 0., 1., 1., 0., 0., 1., 0., 1., 0., 1., 0., 0., 0., 0., 0., 0., 1.,\n",
      "        0., 0., 0., 0., 0., 0., 0., 0., 0., 0., 0., 0., 0., 0., 0., 0., 0., 0.,\n",
      "        1., 0., 0., 0., 0., 0., 0., 0., 0., 0., 0., 0., 0., 0., 1., 0., 0., 0.,\n",
      "        0., 0., 0., 0., 0., 0., 0., 0., 0., 0., 1., 0., 0., 1., 0., 0., 0., 0.,\n",
      "        1., 0., 0., 0., 0., 0., 0., 0., 0., 0., 0., 0., 0., 1., 0., 0., 1., 0.,\n",
      "        1., 0., 0., 0., 0., 0., 0., 1., 0., 0., 0., 0., 0., 0., 0., 0., 0., 0.,\n",
      "        0., 0., 0., 1., 0., 0., 0., 1., 1., 0., 0., 0., 0., 0., 0., 0., 1., 0.,\n",
      "        1., 0., 0., 0., 0., 0., 0., 0., 0., 0., 0., 0., 1., 0., 1., 0., 1., 1.,\n",
      "        0., 1., 0., 0., 0., 1., 0., 0., 0., 0., 0., 0., 1., 0., 0., 1., 0., 0.,\n",
      "        0., 0., 0., 0., 0., 0., 0., 0., 0., 0., 0., 0., 0., 0., 0., 0., 0., 0.,\n",
      "        0., 1., 1., 0., 0., 0., 0., 0., 0., 0., 1., 0., 0., 0., 0., 0., 0., 0.,\n",
      "        0., 0., 0., 1., 0., 0., 0., 0., 1., 0., 0., 0., 0., 0., 0., 0., 0., 1.,\n",
      "        0., 0., 0., 0., 0., 0., 1., 1., 0., 1., 0., 0., 1., 0., 0., 0., 0., 0.,\n",
      "        0., 1., 0., 0., 1., 1., 0., 1., 0., 0., 1., 1., 0., 0., 0., 0., 0., 1.,\n",
      "        1., 0., 0., 0., 0., 0., 0., 0., 0., 1., 0., 0., 1., 0., 1., 1., 1., 0.,\n",
      "        0., 0., 0., 0., 0., 0., 1., 0., 0., 0.], device='cuda:0')\n"
     ]
    }
   ],
   "source": [
    "print(torch.argmax(P,dim=1))\n",
    "print(label[:1000])"
   ]
  },
  {
   "cell_type": "code",
   "execution_count": 28,
   "metadata": {},
   "outputs": [],
   "source": [
    "accuracy=BinaryAccuracy().to(device)\n",
    "acc_score=accuracy(torch.argmax(P,dim=1),label[:1000])"
   ]
  },
  {
   "cell_type": "code",
   "execution_count": 29,
   "metadata": {},
   "outputs": [],
   "source": [
    "# print(lo)"
   ]
  },
  {
   "cell_type": "code",
   "execution_count": 43,
   "metadata": {},
   "outputs": [
    {
     "name": "stdout",
     "output_type": "stream",
     "text": [
      "0.9547420740127563\n"
     ]
    },
    {
     "data": {
      "image/png": "[encoded data removed]",
      "text/plain": [
       "<Figure size 640x480 with 1 Axes>"
      ]
     },
     "metadata": {},
     "output_type": "display_data"
    }
   ],
   "source": [
    "loss_sum=np.cumsum(losses)\n",
    "x_axis=np.arange(len(losses))+1\n",
    "avg_loss=loss_sum/x_axis\n",
    "plt.plot(avg_loss)\n",
    "plt.xlabel('num_epochs')\n",
    "plt.ylabel('loss')\n",
    "plt.title('Loss vs Epoch')\n",
    "plt.grid()\n",
    "print(losses[-1])"
   ]
  },
  {
   "cell_type": "code",
   "execution_count": 44,
   "metadata": {},
   "outputs": [
    {
     "name": "stdout",
     "output_type": "stream",
     "text": [
      "0.7400000095367432\n"
     ]
    },
    {
     "data": {
      "image/png": "[encoded data removed]",
      "text/plain": [
       "<Figure size 640x480 with 1 Axes>"
      ]
     },
     "metadata": {},
     "output_type": "display_data"
    }
   ],
   "source": [
    "acc_sum=np.cumsum(accuracies)\n",
    "x_axis=np.arange(len(acc_sum))+1\n",
    "avg_acc=acc_sum/x_axis\n",
    "plt.plot(avg_acc)\n",
    "plt.xlabel('num_epochs')\n",
    "plt.ylabel('Accuracy')\n",
    "plt.title('Accuracy vs Epoch')\n",
    "plt.grid()\n",
    "print(accuracies[-1])"
   ]
  },
  {
   "cell_type": "code",
   "execution_count": 45,
   "metadata": {},
   "outputs": [
    {
     "name": "stdout",
     "output_type": "stream",
     "text": [
      "0.8125\n"
     ]
    },
    {
     "data": {
      "image/png": "[encoded data removed]",
      "text/plain": [
       "<Figure size 640x480 with 1 Axes>"
      ]
     },
     "metadata": {},
     "output_type": "display_data"
    }
   ],
   "source": [
    "print(f1_score[-2])\n",
    "f1_sum=np.cumsum(f1_score)\n",
    "x_axis=np.arange(len(f1_score))+1\n",
    "avg_f1=f1_sum/x_axis\n",
    "plt.plot(avg_f1)\n",
    "plt.xlabel('num_epochs')\n",
    "plt.ylabel('f1_score')\n",
    "plt.title('f1_score vs Epoch')\n",
    "plt.grid()"
   ]
  },
  {
   "cell_type": "code",
   "execution_count": 46,
   "metadata": {},
   "outputs": [
    {
     "name": "stdout",
     "output_type": "stream",
     "text": [
      "0.5714285969734192\n"
     ]
    },
    {
     "data": {
      "image/png": "[encoded data removed]",
      "text/plain": [
       "<Figure size 640x480 with 1 Axes>"
      ]
     },
     "metadata": {},
     "output_type": "display_data"
    }
   ],
   "source": [
    "recall_sum=np.cumsum(recall)\n",
    "x_axis=np.arange(len(recall))+1\n",
    "avg_recall=recall_sum/x_axis\n",
    "plt.plot(avg_recall)\n",
    "plt.xlabel('num_epochs')\n",
    "plt.ylabel('recall_score')\n",
    "plt.title('recall_score vs Epoch')\n",
    "plt.grid()\n",
    "print(recall[-1])"
   ]
  },
  {
   "cell_type": "code",
   "execution_count": 47,
   "metadata": {},
   "outputs": [
    {
     "name": "stdout",
     "output_type": "stream",
     "text": [
      "0.6666666865348816\n"
     ]
    },
    {
     "data": {
      "image/png": "[encoded data removed]",
      "text/plain": [
       "<Figure size 640x480 with 1 Axes>"
      ]
     },
     "metadata": {},
     "output_type": "display_data"
    }
   ],
   "source": [
    "precision_sum=np.cumsum(recall)\n",
    "x_axis=np.arange(len(precision_sum))+1\n",
    "avg_precision=precision_sum/x_axis\n",
    "plt.plot(avg_precision)\n",
    "plt.xlabel('num_epochs')\n",
    "plt.ylabel('precision_score')\n",
    "plt.title('precision_score vs Epoch')\n",
    "plt.grid()\n",
    "print(precision[-3])"
   ]
  },
  {
   "cell_type": "markdown",
   "metadata": {},
   "source": [
    "### DEMO"
   ]
  },
  {
   "cell_type": "code",
   "execution_count": 69,
   "metadata": {},
   "outputs": [
    {
     "name": "stdout",
     "output_type": "stream",
     "text": [
      "['Judge allows jury to consider manslaughter in Walter Scott trial'] Michael Slager is charged in the April 2015 shooting death of Walter Scott, who fled from a traffic stop and resisted arrest. The final moments of their encounter were captured on a bystander's cellphone video that shocked the nation.\n"
     ]
    }
   ],
   "source": [
    "head_text1=data.iloc[1,2]\n",
    "body_text1=data.iloc[1,9]\n",
    "\n",
    "head_text2=data.iloc[9,2]\n",
    "body_text2=data.iloc[9,9]\n",
    "test_label=torch.zeros(2).to(device)\n",
    "test_label[0],test_label[1]=label[1],label[9]\n",
    "print(head_text2,body_text2)\n",
    "# P,Lh,Lb=model2(head_vec[:10,...],body_vec[:10,...])\n"
   ]
  },
  {
   "cell_type": "code",
   "execution_count": 57,
   "metadata": {},
   "outputs": [
    {
     "name": "stdout",
     "output_type": "stream",
     "text": [
      "torch.Size([96, 100]) torch.Size([96, 100]) torch.Size([96, 100]) torch.Size([96, 100])\n"
     ]
    }
   ],
   "source": [
    "head_vec1,body_vec1=tokenizer(head_text1, body_text1, word2vecLength, modelW2v.wv, norm_len)\n",
    "head_vec2,body_vec2=tokenizer(head_text2, body_text2, word2vecLength, modelW2v.wv, norm_len)\n",
    "print(head_vec1.shape,body_vec1.shape,head_vec2.shape,body_vec2.shape)"
   ]
  },
  {
   "cell_type": "code",
   "execution_count": 62,
   "metadata": {},
   "outputs": [
    {
     "name": "stdout",
     "output_type": "stream",
     "text": [
      "torch.Size([2, 96, 100]) torch.Size([2, 96, 100])\n"
     ]
    }
   ],
   "source": [
    "in_head=torch.zeros((2,head_vec1.shape[0],head_vec1.shape[1])).to(device)\n",
    "in_head[0,...]=head_vec1\n",
    "in_head[1,...]=head_vec2\n",
    "\n",
    "in_body=torch.zeros((2,body_vec1.shape[0],body_vec1.shape[1])).to(device)\n",
    "in_body[0,...]=body_vec1\n",
    "in_body[1,...]=body_vec2\n",
    "print(in_head.shape,in_body.shape)\n"
   ]
  },
  {
   "cell_type": "code",
   "execution_count": 63,
   "metadata": {},
   "outputs": [],
   "source": [
    "test_out,Lh,Lb=model2(in_head,in_body)"
   ]
  },
  {
   "cell_type": "code",
   "execution_count": 70,
   "metadata": {},
   "outputs": [
    {
     "name": "stdout",
     "output_type": "stream",
     "text": [
      "tensor([True, True], device='cuda:0')\n"
     ]
    }
   ],
   "source": [
    "print(torch.argmax(test_out,dim=1)==test_label)"
   ]
  },
  {
   "cell_type": "code",
   "execution_count": null,
   "metadata": {},
   "outputs": [],
   "source": []
  }
 ],
 "metadata": {
  "kernelspec": {
   "display_name": "Python 3.9.13 ('SMAI_proj')",
   "language": "python",
   "name": "python3"
  },
  "language_info": {
   "codemirror_mode": {
    "name": "ipython",
    "version": 3
   },
   "file_extension": ".py",
   "mimetype": "text/x-python",
   "name": "python",
   "nbconvert_exporter": "python",
   "pygments_lexer": "ipython3",
   "version": "3.9.13"
  },
  "orig_nbformat": 4,
  "vscode": {
   "interpreter": {
    "hash": "9a16e5e66ee51b0e6f3b9267708f9072fdba58dd10cae1d373a5441c337f38b4"
   }
  }
 },
 "nbformat": 4,
 "nbformat_minor": 2
}

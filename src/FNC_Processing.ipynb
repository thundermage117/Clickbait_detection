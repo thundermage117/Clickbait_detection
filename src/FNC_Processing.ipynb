{
  "nbformat": 4,
  "nbformat_minor": 0,
  "metadata": {
    "colab": {
      "provenance": []
    },
    "kernelspec": {
      "name": "python3",
      "display_name": "Python 3"
    },
    "language_info": {
      "name": "python"
    }
  },
  "cells": [
    {
      "cell_type": "markdown",
      "source": [
        "\n",
        "# This notebook contains the code to obtain the Word Vectors for the FNC Dataset"
      ],
      "metadata": {
        "id": "BEBbgxb5nGvB"
      }
    },
    {
      "cell_type": "markdown",
      "source": [
        "# Mounting the Drive"
      ],
      "metadata": {
        "id": "EouA3zR1yfZq"
      }
    },
    {
      "cell_type": "code",
      "source": [
        "from google.colab import drive\n",
        "drive.mount('/content/drive')"
      ],
      "metadata": {
        "id": "bNz1ODDIUuKt",
        "colab": {
          "base_uri": "https://localhost:8080/"
        },
        "outputId": "56477fbb-c6d8-40ee-a3ed-4890574dc7a9"
      },
      "execution_count": 2,
      "outputs": [
        {
          "output_type": "stream",
          "name": "stdout",
          "text": [
            "Mounted at /content/drive\n"
          ]
        }
      ]
    },
    {
      "cell_type": "code",
      "execution_count": 3,
      "metadata": {
        "colab": {
          "base_uri": "https://localhost:8080/"
        },
        "id": "4nu65uhBOdpV",
        "outputId": "3d22a408-5904-43c4-a9e4-c6abcd7dc4b1"
      },
      "outputs": [
        {
          "output_type": "stream",
          "name": "stdout",
          "text": [
            "/content\n",
            "/content/drive/MyDrive/SMAI project dataset\n",
            "/content/drive/MyDrive/SMAI project dataset\n"
          ]
        }
      ],
      "source": [
        "!pwd\n",
        "%cd ./drive/MyDrive/SMAI\\ project\\ dataset\n",
        "!pwd"
      ]
    },
    {
      "cell_type": "code",
      "source": [
        "!pwd\n",
        "!cd ./fnc-1-master/"
      ],
      "metadata": {
        "colab": {
          "base_uri": "https://localhost:8080/"
        },
        "id": "YQW_2OucR-7H",
        "outputId": "8a71d679-3be5-4f45-962b-392b8c23b7db"
      },
      "execution_count": 4,
      "outputs": [
        {
          "output_type": "stream",
          "name": "stdout",
          "text": [
            "/content/drive/MyDrive/SMAI project dataset\n"
          ]
        }
      ]
    },
    {
      "cell_type": "code",
      "source": [
        "!ls\n",
        "%cd ./fnc-1-master/"
      ],
      "metadata": {
        "colab": {
          "base_uri": "https://localhost:8080/"
        },
        "id": "t_f8LXPEtZD_",
        "outputId": "cdc8a250-5f66-435f-959f-27d5ed76b377"
      },
      "execution_count": 5,
      "outputs": [
        {
          "output_type": "stream",
          "name": "stdout",
          "text": [
            " checkpoint.pth\t\t     main.ipynb\t\t        NetModel.pth\n",
            " clickbait-17\t\t     metrics.py\t\t        PPr_Vector.ipynb\n",
            " clickbait17-train-170331    model.py\t\t        pre-processing.ipynb\n",
            " clickbait_detection.ipynb  'Model Visualization'       __pycache__\n",
            " fnc-1-master\t\t    'Model Visualization.png'   traditional_models.py\n",
            " input_functions.py\t     NetModel2.pth\n",
            "/content/drive/MyDrive/SMAI project dataset/fnc-1-master\n"
          ]
        }
      ]
    },
    {
      "cell_type": "markdown",
      "source": [
        "# Loading the Dataset"
      ],
      "metadata": {
        "id": "JQpCW0NQykHt"
      }
    },
    {
      "cell_type": "code",
      "source": [
        "import pandas as pd\n",
        "import numpy as np\n",
        "\n",
        "data = pd.read_csv(\"./train_bodies.csv\")\n",
        "labels = pd.read_csv(\"./train_stances.csv\")\n",
        "\n",
        "data = data.sort_values(by=['Body ID'])\n",
        "labels = labels.sort_values(by=['Body ID'])\n",
        "\n",
        "data = data.reset_index()\n",
        "labels = labels.reset_index()\n",
        "\n",
        "display(data.iloc[0:5])\n",
        "display(labels.iloc[0:5])"
      ],
      "metadata": {
        "colab": {
          "base_uri": "https://localhost:8080/",
          "height": 395
        },
        "id": "C3tBikl_RHkh",
        "outputId": "0609e52b-425d-4850-de29-822b7e1456fa"
      },
      "execution_count": 6,
      "outputs": [
        {
          "output_type": "display_data",
          "data": {
            "text/plain": [
              "   index  Body ID                                        articleBody\n",
              "0      0        0  A small meteorite crashed into a wooded area i...\n",
              "1      1        4  Last week we hinted at what was to come as Ebo...\n",
              "2      2        5  (NEWSER) – Wonder how long a Quarter Pounder w...\n",
              "3      3        6  Posting photos of a gun-toting child online, I...\n",
              "4      4        7  At least 25 suspected Boko Haram insurgents we..."
            ],
            "text/html": [
              "\n",
              "  <div id=\"df-8d35df75-0dfa-4abc-901c-48397f0df234\">\n",
              "    <div class=\"colab-df-container\">\n",
              "      <div>\n",
              "<style scoped>\n",
              "    .dataframe tbody tr th:only-of-type {\n",
              "        vertical-align: middle;\n",
              "    }\n",
              "\n",
              "    .dataframe tbody tr th {\n",
              "        vertical-align: top;\n",
              "    }\n",
              "\n",
              "    .dataframe thead th {\n",
              "        text-align: right;\n",
              "    }\n",
              "</style>\n",
              "<table border=\"1\" class=\"dataframe\">\n",
              "  <thead>\n",
              "    <tr style=\"text-align: right;\">\n",
              "      <th></th>\n",
              "      <th>index</th>\n",
              "      <th>Body ID</th>\n",
              "      <th>articleBody</th>\n",
              "    </tr>\n",
              "  </thead>\n",
              "  <tbody>\n",
              "    <tr>\n",
              "      <th>0</th>\n",
              "      <td>0</td>\n",
              "      <td>0</td>\n",
              "      <td>A small meteorite crashed into a wooded area i...</td>\n",
              "    </tr>\n",
              "    <tr>\n",
              "      <th>1</th>\n",
              "      <td>1</td>\n",
              "      <td>4</td>\n",
              "      <td>Last week we hinted at what was to come as Ebo...</td>\n",
              "    </tr>\n",
              "    <tr>\n",
              "      <th>2</th>\n",
              "      <td>2</td>\n",
              "      <td>5</td>\n",
              "      <td>(NEWSER) – Wonder how long a Quarter Pounder w...</td>\n",
              "    </tr>\n",
              "    <tr>\n",
              "      <th>3</th>\n",
              "      <td>3</td>\n",
              "      <td>6</td>\n",
              "      <td>Posting photos of a gun-toting child online, I...</td>\n",
              "    </tr>\n",
              "    <tr>\n",
              "      <th>4</th>\n",
              "      <td>4</td>\n",
              "      <td>7</td>\n",
              "      <td>At least 25 suspected Boko Haram insurgents we...</td>\n",
              "    </tr>\n",
              "  </tbody>\n",
              "</table>\n",
              "</div>\n",
              "      <button class=\"colab-df-convert\" onclick=\"convertToInteractive('df-8d35df75-0dfa-4abc-901c-48397f0df234')\"\n",
              "              title=\"Convert this dataframe to an interactive table.\"\n",
              "              style=\"display:none;\">\n",
              "        \n",
              "  <svg xmlns=\"http://www.w3.org/2000/svg\" height=\"24px\"viewBox=\"0 0 24 24\"\n",
              "       width=\"24px\">\n",
              "    <path d=\"M0 0h24v24H0V0z\" fill=\"none\"/>\n",
              "    <path d=\"M18.56 5.44l.94 2.06.94-2.06 2.06-.94-2.06-.94-.94-2.06-.94 2.06-2.06.94zm-11 1L8.5 8.5l.94-2.06 2.06-.94-2.06-.94L8.5 2.5l-.94 2.06-2.06.94zm10 10l.94 2.06.94-2.06 2.06-.94-2.06-.94-.94-2.06-.94 2.06-2.06.94z\"/><path d=\"M17.41 7.96l-1.37-1.37c-.4-.4-.92-.59-1.43-.59-.52 0-1.04.2-1.43.59L10.3 9.45l-7.72 7.72c-.78.78-.78 2.05 0 2.83L4 21.41c.39.39.9.59 1.41.59.51 0 1.02-.2 1.41-.59l7.78-7.78 2.81-2.81c.8-.78.8-2.07 0-2.86zM5.41 20L4 18.59l7.72-7.72 1.47 1.35L5.41 20z\"/>\n",
              "  </svg>\n",
              "      </button>\n",
              "      \n",
              "  <style>\n",
              "    .colab-df-container {\n",
              "      display:flex;\n",
              "      flex-wrap:wrap;\n",
              "      gap: 12px;\n",
              "    }\n",
              "\n",
              "    .colab-df-convert {\n",
              "      background-color: #E8F0FE;\n",
              "      border: none;\n",
              "      border-radius: 50%;\n",
              "      cursor: pointer;\n",
              "      display: none;\n",
              "      fill: #1967D2;\n",
              "      height: 32px;\n",
              "      padding: 0 0 0 0;\n",
              "      width: 32px;\n",
              "    }\n",
              "\n",
              "    .colab-df-convert:hover {\n",
              "      background-color: #E2EBFA;\n",
              "      box-shadow: 0px 1px 2px rgba(60, 64, 67, 0.3), 0px 1px 3px 1px rgba(60, 64, 67, 0.15);\n",
              "      fill: #174EA6;\n",
              "    }\n",
              "\n",
              "    [theme=dark] .colab-df-convert {\n",
              "      background-color: #3B4455;\n",
              "      fill: #D2E3FC;\n",
              "    }\n",
              "\n",
              "    [theme=dark] .colab-df-convert:hover {\n",
              "      background-color: #434B5C;\n",
              "      box-shadow: 0px 1px 3px 1px rgba(0, 0, 0, 0.15);\n",
              "      filter: drop-shadow(0px 1px 2px rgba(0, 0, 0, 0.3));\n",
              "      fill: #FFFFFF;\n",
              "    }\n",
              "  </style>\n",
              "\n",
              "      <script>\n",
              "        const buttonEl =\n",
              "          document.querySelector('#df-8d35df75-0dfa-4abc-901c-48397f0df234 button.colab-df-convert');\n",
              "        buttonEl.style.display =\n",
              "          google.colab.kernel.accessAllowed ? 'block' : 'none';\n",
              "\n",
              "        async function convertToInteractive(key) {\n",
              "          const element = document.querySelector('#df-8d35df75-0dfa-4abc-901c-48397f0df234');\n",
              "          const dataTable =\n",
              "            await google.colab.kernel.invokeFunction('convertToInteractive',\n",
              "                                                     [key], {});\n",
              "          if (!dataTable) return;\n",
              "\n",
              "          const docLinkHtml = 'Like what you see? Visit the ' +\n",
              "            '<a target=\"_blank\" href=https://colab.research.google.com/notebooks/data_table.ipynb>data table notebook</a>'\n",
              "            + ' to learn more about interactive tables.';\n",
              "          element.innerHTML = '';\n",
              "          dataTable['output_type'] = 'display_data';\n",
              "          await google.colab.output.renderOutput(dataTable, element);\n",
              "          const docLink = document.createElement('div');\n",
              "          docLink.innerHTML = docLinkHtml;\n",
              "          element.appendChild(docLink);\n",
              "        }\n",
              "      </script>\n",
              "    </div>\n",
              "  </div>\n",
              "  "
            ]
          },
          "metadata": {}
        },
        {
          "output_type": "display_data",
          "data": {
            "text/plain": [
              "   index                                           Headline  Body ID  \\\n",
              "0  27879     Soldier shot near Canadian parliament building        0   \n",
              "1  21704  Caught a catfish record in Po: 127 kg and 2.67...        0   \n",
              "2   7110  Enormous 20-stone catfish caught with fishing ...        0   \n",
              "3  12573             Soldier shot at war memorial in Canada        0   \n",
              "4  16307  A soldier has been shot at Canada’s war memori...        0   \n",
              "\n",
              "      Stance  \n",
              "0  unrelated  \n",
              "1  unrelated  \n",
              "2  unrelated  \n",
              "3  unrelated  \n",
              "4  unrelated  "
            ],
            "text/html": [
              "\n",
              "  <div id=\"df-7699b1d0-813b-43ab-bc4d-de980fde9e8d\">\n",
              "    <div class=\"colab-df-container\">\n",
              "      <div>\n",
              "<style scoped>\n",
              "    .dataframe tbody tr th:only-of-type {\n",
              "        vertical-align: middle;\n",
              "    }\n",
              "\n",
              "    .dataframe tbody tr th {\n",
              "        vertical-align: top;\n",
              "    }\n",
              "\n",
              "    .dataframe thead th {\n",
              "        text-align: right;\n",
              "    }\n",
              "</style>\n",
              "<table border=\"1\" class=\"dataframe\">\n",
              "  <thead>\n",
              "    <tr style=\"text-align: right;\">\n",
              "      <th></th>\n",
              "      <th>index</th>\n",
              "      <th>Headline</th>\n",
              "      <th>Body ID</th>\n",
              "      <th>Stance</th>\n",
              "    </tr>\n",
              "  </thead>\n",
              "  <tbody>\n",
              "    <tr>\n",
              "      <th>0</th>\n",
              "      <td>27879</td>\n",
              "      <td>Soldier shot near Canadian parliament building</td>\n",
              "      <td>0</td>\n",
              "      <td>unrelated</td>\n",
              "    </tr>\n",
              "    <tr>\n",
              "      <th>1</th>\n",
              "      <td>21704</td>\n",
              "      <td>Caught a catfish record in Po: 127 kg and 2.67...</td>\n",
              "      <td>0</td>\n",
              "      <td>unrelated</td>\n",
              "    </tr>\n",
              "    <tr>\n",
              "      <th>2</th>\n",
              "      <td>7110</td>\n",
              "      <td>Enormous 20-stone catfish caught with fishing ...</td>\n",
              "      <td>0</td>\n",
              "      <td>unrelated</td>\n",
              "    </tr>\n",
              "    <tr>\n",
              "      <th>3</th>\n",
              "      <td>12573</td>\n",
              "      <td>Soldier shot at war memorial in Canada</td>\n",
              "      <td>0</td>\n",
              "      <td>unrelated</td>\n",
              "    </tr>\n",
              "    <tr>\n",
              "      <th>4</th>\n",
              "      <td>16307</td>\n",
              "      <td>A soldier has been shot at Canada’s war memori...</td>\n",
              "      <td>0</td>\n",
              "      <td>unrelated</td>\n",
              "    </tr>\n",
              "  </tbody>\n",
              "</table>\n",
              "</div>\n",
              "      <button class=\"colab-df-convert\" onclick=\"convertToInteractive('df-7699b1d0-813b-43ab-bc4d-de980fde9e8d')\"\n",
              "              title=\"Convert this dataframe to an interactive table.\"\n",
              "              style=\"display:none;\">\n",
              "        \n",
              "  <svg xmlns=\"http://www.w3.org/2000/svg\" height=\"24px\"viewBox=\"0 0 24 24\"\n",
              "       width=\"24px\">\n",
              "    <path d=\"M0 0h24v24H0V0z\" fill=\"none\"/>\n",
              "    <path d=\"M18.56 5.44l.94 2.06.94-2.06 2.06-.94-2.06-.94-.94-2.06-.94 2.06-2.06.94zm-11 1L8.5 8.5l.94-2.06 2.06-.94-2.06-.94L8.5 2.5l-.94 2.06-2.06.94zm10 10l.94 2.06.94-2.06 2.06-.94-2.06-.94-.94-2.06-.94 2.06-2.06.94z\"/><path d=\"M17.41 7.96l-1.37-1.37c-.4-.4-.92-.59-1.43-.59-.52 0-1.04.2-1.43.59L10.3 9.45l-7.72 7.72c-.78.78-.78 2.05 0 2.83L4 21.41c.39.39.9.59 1.41.59.51 0 1.02-.2 1.41-.59l7.78-7.78 2.81-2.81c.8-.78.8-2.07 0-2.86zM5.41 20L4 18.59l7.72-7.72 1.47 1.35L5.41 20z\"/>\n",
              "  </svg>\n",
              "      </button>\n",
              "      \n",
              "  <style>\n",
              "    .colab-df-container {\n",
              "      display:flex;\n",
              "      flex-wrap:wrap;\n",
              "      gap: 12px;\n",
              "    }\n",
              "\n",
              "    .colab-df-convert {\n",
              "      background-color: #E8F0FE;\n",
              "      border: none;\n",
              "      border-radius: 50%;\n",
              "      cursor: pointer;\n",
              "      display: none;\n",
              "      fill: #1967D2;\n",
              "      height: 32px;\n",
              "      padding: 0 0 0 0;\n",
              "      width: 32px;\n",
              "    }\n",
              "\n",
              "    .colab-df-convert:hover {\n",
              "      background-color: #E2EBFA;\n",
              "      box-shadow: 0px 1px 2px rgba(60, 64, 67, 0.3), 0px 1px 3px 1px rgba(60, 64, 67, 0.15);\n",
              "      fill: #174EA6;\n",
              "    }\n",
              "\n",
              "    [theme=dark] .colab-df-convert {\n",
              "      background-color: #3B4455;\n",
              "      fill: #D2E3FC;\n",
              "    }\n",
              "\n",
              "    [theme=dark] .colab-df-convert:hover {\n",
              "      background-color: #434B5C;\n",
              "      box-shadow: 0px 1px 3px 1px rgba(0, 0, 0, 0.15);\n",
              "      filter: drop-shadow(0px 1px 2px rgba(0, 0, 0, 0.3));\n",
              "      fill: #FFFFFF;\n",
              "    }\n",
              "  </style>\n",
              "\n",
              "      <script>\n",
              "        const buttonEl =\n",
              "          document.querySelector('#df-7699b1d0-813b-43ab-bc4d-de980fde9e8d button.colab-df-convert');\n",
              "        buttonEl.style.display =\n",
              "          google.colab.kernel.accessAllowed ? 'block' : 'none';\n",
              "\n",
              "        async function convertToInteractive(key) {\n",
              "          const element = document.querySelector('#df-7699b1d0-813b-43ab-bc4d-de980fde9e8d');\n",
              "          const dataTable =\n",
              "            await google.colab.kernel.invokeFunction('convertToInteractive',\n",
              "                                                     [key], {});\n",
              "          if (!dataTable) return;\n",
              "\n",
              "          const docLinkHtml = 'Like what you see? Visit the ' +\n",
              "            '<a target=\"_blank\" href=https://colab.research.google.com/notebooks/data_table.ipynb>data table notebook</a>'\n",
              "            + ' to learn more about interactive tables.';\n",
              "          element.innerHTML = '';\n",
              "          dataTable['output_type'] = 'display_data';\n",
              "          await google.colab.output.renderOutput(dataTable, element);\n",
              "          const docLink = document.createElement('div');\n",
              "          docLink.innerHTML = docLinkHtml;\n",
              "          element.appendChild(docLink);\n",
              "        }\n",
              "      </script>\n",
              "    </div>\n",
              "  </div>\n",
              "  "
            ]
          },
          "metadata": {}
        }
      ]
    },
    {
      "cell_type": "code",
      "source": [
        "body_ids = labels.iloc[:, 2]"
      ],
      "metadata": {
        "id": "E09zn9Nz0Mt3"
      },
      "execution_count": 7,
      "outputs": []
    },
    {
      "cell_type": "code",
      "source": [
        "print(body_ids.shape)\n",
        "duplicated_bodies = []\n",
        "for i in body_ids:\n",
        "  temp = np.where(data.iloc[:, 1] == i)[0][0]\n",
        "  duplicated_bodies.append(data.iloc[temp, 2])\n",
        "\n",
        "print(len(duplicated_bodies))"
      ],
      "metadata": {
        "colab": {
          "base_uri": "https://localhost:8080/"
        },
        "id": "kaZjypnJ0VOp",
        "outputId": "85612644-80e9-4274-ce36-80374f043db3"
      },
      "execution_count": 8,
      "outputs": [
        {
          "output_type": "stream",
          "name": "stdout",
          "text": [
            "(49972,)\n",
            "49972\n"
          ]
        }
      ]
    },
    {
      "cell_type": "code",
      "source": [
        "labels['Body Text'] = duplicated_bodies\n",
        "display(labels.iloc[0:10])"
      ],
      "metadata": {
        "colab": {
          "base_uri": "https://localhost:8080/",
          "height": 363
        },
        "id": "pSbGmuQsyhna",
        "outputId": "e5d487f1-aa68-4cc2-a473-6a83bbfbad69"
      },
      "execution_count": 9,
      "outputs": [
        {
          "output_type": "display_data",
          "data": {
            "text/plain": [
              "   index                                           Headline  Body ID  \\\n",
              "0  27879     Soldier shot near Canadian parliament building        0   \n",
              "1  21704  Caught a catfish record in Po: 127 kg and 2.67...        0   \n",
              "2   7110  Enormous 20-stone catfish caught with fishing ...        0   \n",
              "3  12573             Soldier shot at war memorial in Canada        0   \n",
              "4  16307  A soldier has been shot at Canada’s war memori...        0   \n",
              "5  37891  Canadian Soldier Shot At Ottawa War Memorial: ...        0   \n",
              "6  37896    Iraqi social-media rumors claim IS leader slain        0   \n",
              "7  35767  Breaking: Soldier shot at National War Memoria...        0   \n",
              "8  44961   Kurds fear Isis use of chemical weapon in Kobani        0   \n",
              "9   4740  Giant 8ft 9in catfish weighing 19 stone caught...        0   \n",
              "\n",
              "      Stance                                          Body Text  \n",
              "0  unrelated  A small meteorite crashed into a wooded area i...  \n",
              "1  unrelated  A small meteorite crashed into a wooded area i...  \n",
              "2  unrelated  A small meteorite crashed into a wooded area i...  \n",
              "3  unrelated  A small meteorite crashed into a wooded area i...  \n",
              "4  unrelated  A small meteorite crashed into a wooded area i...  \n",
              "5  unrelated  A small meteorite crashed into a wooded area i...  \n",
              "6  unrelated  A small meteorite crashed into a wooded area i...  \n",
              "7  unrelated  A small meteorite crashed into a wooded area i...  \n",
              "8  unrelated  A small meteorite crashed into a wooded area i...  \n",
              "9  unrelated  A small meteorite crashed into a wooded area i...  "
            ],
            "text/html": [
              "\n",
              "  <div id=\"df-1ff3c5bf-a065-4178-9e7a-f07529506b72\">\n",
              "    <div class=\"colab-df-container\">\n",
              "      <div>\n",
              "<style scoped>\n",
              "    .dataframe tbody tr th:only-of-type {\n",
              "        vertical-align: middle;\n",
              "    }\n",
              "\n",
              "    .dataframe tbody tr th {\n",
              "        vertical-align: top;\n",
              "    }\n",
              "\n",
              "    .dataframe thead th {\n",
              "        text-align: right;\n",
              "    }\n",
              "</style>\n",
              "<table border=\"1\" class=\"dataframe\">\n",
              "  <thead>\n",
              "    <tr style=\"text-align: right;\">\n",
              "      <th></th>\n",
              "      <th>index</th>\n",
              "      <th>Headline</th>\n",
              "      <th>Body ID</th>\n",
              "      <th>Stance</th>\n",
              "      <th>Body Text</th>\n",
              "    </tr>\n",
              "  </thead>\n",
              "  <tbody>\n",
              "    <tr>\n",
              "      <th>0</th>\n",
              "      <td>27879</td>\n",
              "      <td>Soldier shot near Canadian parliament building</td>\n",
              "      <td>0</td>\n",
              "      <td>unrelated</td>\n",
              "      <td>A small meteorite crashed into a wooded area i...</td>\n",
              "    </tr>\n",
              "    <tr>\n",
              "      <th>1</th>\n",
              "      <td>21704</td>\n",
              "      <td>Caught a catfish record in Po: 127 kg and 2.67...</td>\n",
              "      <td>0</td>\n",
              "      <td>unrelated</td>\n",
              "      <td>A small meteorite crashed into a wooded area i...</td>\n",
              "    </tr>\n",
              "    <tr>\n",
              "      <th>2</th>\n",
              "      <td>7110</td>\n",
              "      <td>Enormous 20-stone catfish caught with fishing ...</td>\n",
              "      <td>0</td>\n",
              "      <td>unrelated</td>\n",
              "      <td>A small meteorite crashed into a wooded area i...</td>\n",
              "    </tr>\n",
              "    <tr>\n",
              "      <th>3</th>\n",
              "      <td>12573</td>\n",
              "      <td>Soldier shot at war memorial in Canada</td>\n",
              "      <td>0</td>\n",
              "      <td>unrelated</td>\n",
              "      <td>A small meteorite crashed into a wooded area i...</td>\n",
              "    </tr>\n",
              "    <tr>\n",
              "      <th>4</th>\n",
              "      <td>16307</td>\n",
              "      <td>A soldier has been shot at Canada’s war memori...</td>\n",
              "      <td>0</td>\n",
              "      <td>unrelated</td>\n",
              "      <td>A small meteorite crashed into a wooded area i...</td>\n",
              "    </tr>\n",
              "    <tr>\n",
              "      <th>5</th>\n",
              "      <td>37891</td>\n",
              "      <td>Canadian Soldier Shot At Ottawa War Memorial: ...</td>\n",
              "      <td>0</td>\n",
              "      <td>unrelated</td>\n",
              "      <td>A small meteorite crashed into a wooded area i...</td>\n",
              "    </tr>\n",
              "    <tr>\n",
              "      <th>6</th>\n",
              "      <td>37896</td>\n",
              "      <td>Iraqi social-media rumors claim IS leader slain</td>\n",
              "      <td>0</td>\n",
              "      <td>unrelated</td>\n",
              "      <td>A small meteorite crashed into a wooded area i...</td>\n",
              "    </tr>\n",
              "    <tr>\n",
              "      <th>7</th>\n",
              "      <td>35767</td>\n",
              "      <td>Breaking: Soldier shot at National War Memoria...</td>\n",
              "      <td>0</td>\n",
              "      <td>unrelated</td>\n",
              "      <td>A small meteorite crashed into a wooded area i...</td>\n",
              "    </tr>\n",
              "    <tr>\n",
              "      <th>8</th>\n",
              "      <td>44961</td>\n",
              "      <td>Kurds fear Isis use of chemical weapon in Kobani</td>\n",
              "      <td>0</td>\n",
              "      <td>unrelated</td>\n",
              "      <td>A small meteorite crashed into a wooded area i...</td>\n",
              "    </tr>\n",
              "    <tr>\n",
              "      <th>9</th>\n",
              "      <td>4740</td>\n",
              "      <td>Giant 8ft 9in catfish weighing 19 stone caught...</td>\n",
              "      <td>0</td>\n",
              "      <td>unrelated</td>\n",
              "      <td>A small meteorite crashed into a wooded area i...</td>\n",
              "    </tr>\n",
              "  </tbody>\n",
              "</table>\n",
              "</div>\n",
              "      <button class=\"colab-df-convert\" onclick=\"convertToInteractive('df-1ff3c5bf-a065-4178-9e7a-f07529506b72')\"\n",
              "              title=\"Convert this dataframe to an interactive table.\"\n",
              "              style=\"display:none;\">\n",
              "        \n",
              "  <svg xmlns=\"http://www.w3.org/2000/svg\" height=\"24px\"viewBox=\"0 0 24 24\"\n",
              "       width=\"24px\">\n",
              "    <path d=\"M0 0h24v24H0V0z\" fill=\"none\"/>\n",
              "    <path d=\"M18.56 5.44l.94 2.06.94-2.06 2.06-.94-2.06-.94-.94-2.06-.94 2.06-2.06.94zm-11 1L8.5 8.5l.94-2.06 2.06-.94-2.06-.94L8.5 2.5l-.94 2.06-2.06.94zm10 10l.94 2.06.94-2.06 2.06-.94-2.06-.94-.94-2.06-.94 2.06-2.06.94z\"/><path d=\"M17.41 7.96l-1.37-1.37c-.4-.4-.92-.59-1.43-.59-.52 0-1.04.2-1.43.59L10.3 9.45l-7.72 7.72c-.78.78-.78 2.05 0 2.83L4 21.41c.39.39.9.59 1.41.59.51 0 1.02-.2 1.41-.59l7.78-7.78 2.81-2.81c.8-.78.8-2.07 0-2.86zM5.41 20L4 18.59l7.72-7.72 1.47 1.35L5.41 20z\"/>\n",
              "  </svg>\n",
              "      </button>\n",
              "      \n",
              "  <style>\n",
              "    .colab-df-container {\n",
              "      display:flex;\n",
              "      flex-wrap:wrap;\n",
              "      gap: 12px;\n",
              "    }\n",
              "\n",
              "    .colab-df-convert {\n",
              "      background-color: #E8F0FE;\n",
              "      border: none;\n",
              "      border-radius: 50%;\n",
              "      cursor: pointer;\n",
              "      display: none;\n",
              "      fill: #1967D2;\n",
              "      height: 32px;\n",
              "      padding: 0 0 0 0;\n",
              "      width: 32px;\n",
              "    }\n",
              "\n",
              "    .colab-df-convert:hover {\n",
              "      background-color: #E2EBFA;\n",
              "      box-shadow: 0px 1px 2px rgba(60, 64, 67, 0.3), 0px 1px 3px 1px rgba(60, 64, 67, 0.15);\n",
              "      fill: #174EA6;\n",
              "    }\n",
              "\n",
              "    [theme=dark] .colab-df-convert {\n",
              "      background-color: #3B4455;\n",
              "      fill: #D2E3FC;\n",
              "    }\n",
              "\n",
              "    [theme=dark] .colab-df-convert:hover {\n",
              "      background-color: #434B5C;\n",
              "      box-shadow: 0px 1px 3px 1px rgba(0, 0, 0, 0.15);\n",
              "      filter: drop-shadow(0px 1px 2px rgba(0, 0, 0, 0.3));\n",
              "      fill: #FFFFFF;\n",
              "    }\n",
              "  </style>\n",
              "\n",
              "      <script>\n",
              "        const buttonEl =\n",
              "          document.querySelector('#df-1ff3c5bf-a065-4178-9e7a-f07529506b72 button.colab-df-convert');\n",
              "        buttonEl.style.display =\n",
              "          google.colab.kernel.accessAllowed ? 'block' : 'none';\n",
              "\n",
              "        async function convertToInteractive(key) {\n",
              "          const element = document.querySelector('#df-1ff3c5bf-a065-4178-9e7a-f07529506b72');\n",
              "          const dataTable =\n",
              "            await google.colab.kernel.invokeFunction('convertToInteractive',\n",
              "                                                     [key], {});\n",
              "          if (!dataTable) return;\n",
              "\n",
              "          const docLinkHtml = 'Like what you see? Visit the ' +\n",
              "            '<a target=\"_blank\" href=https://colab.research.google.com/notebooks/data_table.ipynb>data table notebook</a>'\n",
              "            + ' to learn more about interactive tables.';\n",
              "          element.innerHTML = '';\n",
              "          dataTable['output_type'] = 'display_data';\n",
              "          await google.colab.output.renderOutput(dataTable, element);\n",
              "          const docLink = document.createElement('div');\n",
              "          docLink.innerHTML = docLinkHtml;\n",
              "          element.appendChild(docLink);\n",
              "        }\n",
              "      </script>\n",
              "    </div>\n",
              "  </div>\n",
              "  "
            ]
          },
          "metadata": {}
        }
      ]
    },
    {
      "cell_type": "code",
      "source": [
        "labels.iloc[:, 3] = np.where(labels.iloc[:, 3] == 'unrelated', 1, 0)\n",
        "display(labels.iloc[0:10])"
      ],
      "metadata": {
        "colab": {
          "base_uri": "https://localhost:8080/",
          "height": 363
        },
        "id": "RFtL0n5F3atU",
        "outputId": "dc442b3c-cdef-48d9-8622-ceda6f08c17e"
      },
      "execution_count": 10,
      "outputs": [
        {
          "output_type": "display_data",
          "data": {
            "text/plain": [
              "   index                                           Headline  Body ID  Stance  \\\n",
              "0  27879     Soldier shot near Canadian parliament building        0       1   \n",
              "1  21704  Caught a catfish record in Po: 127 kg and 2.67...        0       1   \n",
              "2   7110  Enormous 20-stone catfish caught with fishing ...        0       1   \n",
              "3  12573             Soldier shot at war memorial in Canada        0       1   \n",
              "4  16307  A soldier has been shot at Canada’s war memori...        0       1   \n",
              "5  37891  Canadian Soldier Shot At Ottawa War Memorial: ...        0       1   \n",
              "6  37896    Iraqi social-media rumors claim IS leader slain        0       1   \n",
              "7  35767  Breaking: Soldier shot at National War Memoria...        0       1   \n",
              "8  44961   Kurds fear Isis use of chemical weapon in Kobani        0       1   \n",
              "9   4740  Giant 8ft 9in catfish weighing 19 stone caught...        0       1   \n",
              "\n",
              "                                           Body Text  \n",
              "0  A small meteorite crashed into a wooded area i...  \n",
              "1  A small meteorite crashed into a wooded area i...  \n",
              "2  A small meteorite crashed into a wooded area i...  \n",
              "3  A small meteorite crashed into a wooded area i...  \n",
              "4  A small meteorite crashed into a wooded area i...  \n",
              "5  A small meteorite crashed into a wooded area i...  \n",
              "6  A small meteorite crashed into a wooded area i...  \n",
              "7  A small meteorite crashed into a wooded area i...  \n",
              "8  A small meteorite crashed into a wooded area i...  \n",
              "9  A small meteorite crashed into a wooded area i...  "
            ],
            "text/html": [
              "\n",
              "  <div id=\"df-840570b8-8d62-41b8-a3c4-ca7b41e30445\">\n",
              "    <div class=\"colab-df-container\">\n",
              "      <div>\n",
              "<style scoped>\n",
              "    .dataframe tbody tr th:only-of-type {\n",
              "        vertical-align: middle;\n",
              "    }\n",
              "\n",
              "    .dataframe tbody tr th {\n",
              "        vertical-align: top;\n",
              "    }\n",
              "\n",
              "    .dataframe thead th {\n",
              "        text-align: right;\n",
              "    }\n",
              "</style>\n",
              "<table border=\"1\" class=\"dataframe\">\n",
              "  <thead>\n",
              "    <tr style=\"text-align: right;\">\n",
              "      <th></th>\n",
              "      <th>index</th>\n",
              "      <th>Headline</th>\n",
              "      <th>Body ID</th>\n",
              "      <th>Stance</th>\n",
              "      <th>Body Text</th>\n",
              "    </tr>\n",
              "  </thead>\n",
              "  <tbody>\n",
              "    <tr>\n",
              "      <th>0</th>\n",
              "      <td>27879</td>\n",
              "      <td>Soldier shot near Canadian parliament building</td>\n",
              "      <td>0</td>\n",
              "      <td>1</td>\n",
              "      <td>A small meteorite crashed into a wooded area i...</td>\n",
              "    </tr>\n",
              "    <tr>\n",
              "      <th>1</th>\n",
              "      <td>21704</td>\n",
              "      <td>Caught a catfish record in Po: 127 kg and 2.67...</td>\n",
              "      <td>0</td>\n",
              "      <td>1</td>\n",
              "      <td>A small meteorite crashed into a wooded area i...</td>\n",
              "    </tr>\n",
              "    <tr>\n",
              "      <th>2</th>\n",
              "      <td>7110</td>\n",
              "      <td>Enormous 20-stone catfish caught with fishing ...</td>\n",
              "      <td>0</td>\n",
              "      <td>1</td>\n",
              "      <td>A small meteorite crashed into a wooded area i...</td>\n",
              "    </tr>\n",
              "    <tr>\n",
              "      <th>3</th>\n",
              "      <td>12573</td>\n",
              "      <td>Soldier shot at war memorial in Canada</td>\n",
              "      <td>0</td>\n",
              "      <td>1</td>\n",
              "      <td>A small meteorite crashed into a wooded area i...</td>\n",
              "    </tr>\n",
              "    <tr>\n",
              "      <th>4</th>\n",
              "      <td>16307</td>\n",
              "      <td>A soldier has been shot at Canada’s war memori...</td>\n",
              "      <td>0</td>\n",
              "      <td>1</td>\n",
              "      <td>A small meteorite crashed into a wooded area i...</td>\n",
              "    </tr>\n",
              "    <tr>\n",
              "      <th>5</th>\n",
              "      <td>37891</td>\n",
              "      <td>Canadian Soldier Shot At Ottawa War Memorial: ...</td>\n",
              "      <td>0</td>\n",
              "      <td>1</td>\n",
              "      <td>A small meteorite crashed into a wooded area i...</td>\n",
              "    </tr>\n",
              "    <tr>\n",
              "      <th>6</th>\n",
              "      <td>37896</td>\n",
              "      <td>Iraqi social-media rumors claim IS leader slain</td>\n",
              "      <td>0</td>\n",
              "      <td>1</td>\n",
              "      <td>A small meteorite crashed into a wooded area i...</td>\n",
              "    </tr>\n",
              "    <tr>\n",
              "      <th>7</th>\n",
              "      <td>35767</td>\n",
              "      <td>Breaking: Soldier shot at National War Memoria...</td>\n",
              "      <td>0</td>\n",
              "      <td>1</td>\n",
              "      <td>A small meteorite crashed into a wooded area i...</td>\n",
              "    </tr>\n",
              "    <tr>\n",
              "      <th>8</th>\n",
              "      <td>44961</td>\n",
              "      <td>Kurds fear Isis use of chemical weapon in Kobani</td>\n",
              "      <td>0</td>\n",
              "      <td>1</td>\n",
              "      <td>A small meteorite crashed into a wooded area i...</td>\n",
              "    </tr>\n",
              "    <tr>\n",
              "      <th>9</th>\n",
              "      <td>4740</td>\n",
              "      <td>Giant 8ft 9in catfish weighing 19 stone caught...</td>\n",
              "      <td>0</td>\n",
              "      <td>1</td>\n",
              "      <td>A small meteorite crashed into a wooded area i...</td>\n",
              "    </tr>\n",
              "  </tbody>\n",
              "</table>\n",
              "</div>\n",
              "      <button class=\"colab-df-convert\" onclick=\"convertToInteractive('df-840570b8-8d62-41b8-a3c4-ca7b41e30445')\"\n",
              "              title=\"Convert this dataframe to an interactive table.\"\n",
              "              style=\"display:none;\">\n",
              "        \n",
              "  <svg xmlns=\"http://www.w3.org/2000/svg\" height=\"24px\"viewBox=\"0 0 24 24\"\n",
              "       width=\"24px\">\n",
              "    <path d=\"M0 0h24v24H0V0z\" fill=\"none\"/>\n",
              "    <path d=\"M18.56 5.44l.94 2.06.94-2.06 2.06-.94-2.06-.94-.94-2.06-.94 2.06-2.06.94zm-11 1L8.5 8.5l.94-2.06 2.06-.94-2.06-.94L8.5 2.5l-.94 2.06-2.06.94zm10 10l.94 2.06.94-2.06 2.06-.94-2.06-.94-.94-2.06-.94 2.06-2.06.94z\"/><path d=\"M17.41 7.96l-1.37-1.37c-.4-.4-.92-.59-1.43-.59-.52 0-1.04.2-1.43.59L10.3 9.45l-7.72 7.72c-.78.78-.78 2.05 0 2.83L4 21.41c.39.39.9.59 1.41.59.51 0 1.02-.2 1.41-.59l7.78-7.78 2.81-2.81c.8-.78.8-2.07 0-2.86zM5.41 20L4 18.59l7.72-7.72 1.47 1.35L5.41 20z\"/>\n",
              "  </svg>\n",
              "      </button>\n",
              "      \n",
              "  <style>\n",
              "    .colab-df-container {\n",
              "      display:flex;\n",
              "      flex-wrap:wrap;\n",
              "      gap: 12px;\n",
              "    }\n",
              "\n",
              "    .colab-df-convert {\n",
              "      background-color: #E8F0FE;\n",
              "      border: none;\n",
              "      border-radius: 50%;\n",
              "      cursor: pointer;\n",
              "      display: none;\n",
              "      fill: #1967D2;\n",
              "      height: 32px;\n",
              "      padding: 0 0 0 0;\n",
              "      width: 32px;\n",
              "    }\n",
              "\n",
              "    .colab-df-convert:hover {\n",
              "      background-color: #E2EBFA;\n",
              "      box-shadow: 0px 1px 2px rgba(60, 64, 67, 0.3), 0px 1px 3px 1px rgba(60, 64, 67, 0.15);\n",
              "      fill: #174EA6;\n",
              "    }\n",
              "\n",
              "    [theme=dark] .colab-df-convert {\n",
              "      background-color: #3B4455;\n",
              "      fill: #D2E3FC;\n",
              "    }\n",
              "\n",
              "    [theme=dark] .colab-df-convert:hover {\n",
              "      background-color: #434B5C;\n",
              "      box-shadow: 0px 1px 3px 1px rgba(0, 0, 0, 0.15);\n",
              "      filter: drop-shadow(0px 1px 2px rgba(0, 0, 0, 0.3));\n",
              "      fill: #FFFFFF;\n",
              "    }\n",
              "  </style>\n",
              "\n",
              "      <script>\n",
              "        const buttonEl =\n",
              "          document.querySelector('#df-840570b8-8d62-41b8-a3c4-ca7b41e30445 button.colab-df-convert');\n",
              "        buttonEl.style.display =\n",
              "          google.colab.kernel.accessAllowed ? 'block' : 'none';\n",
              "\n",
              "        async function convertToInteractive(key) {\n",
              "          const element = document.querySelector('#df-840570b8-8d62-41b8-a3c4-ca7b41e30445');\n",
              "          const dataTable =\n",
              "            await google.colab.kernel.invokeFunction('convertToInteractive',\n",
              "                                                     [key], {});\n",
              "          if (!dataTable) return;\n",
              "\n",
              "          const docLinkHtml = 'Like what you see? Visit the ' +\n",
              "            '<a target=\"_blank\" href=https://colab.research.google.com/notebooks/data_table.ipynb>data table notebook</a>'\n",
              "            + ' to learn more about interactive tables.';\n",
              "          element.innerHTML = '';\n",
              "          dataTable['output_type'] = 'display_data';\n",
              "          await google.colab.output.renderOutput(dataTable, element);\n",
              "          const docLink = document.createElement('div');\n",
              "          docLink.innerHTML = docLinkHtml;\n",
              "          element.appendChild(docLink);\n",
              "        }\n",
              "      </script>\n",
              "    </div>\n",
              "  </div>\n",
              "  "
            ]
          },
          "metadata": {}
        }
      ]
    },
    {
      "cell_type": "code",
      "source": [
        "import nltk\n",
        "from nltk.stem import WordNetLemmatizer\n",
        "wordnet_lemmatizer = WordNetLemmatizer()\n",
        "\n",
        "nltk.download('stopwords')\n",
        "nltk.download('punkt')\n",
        "nltk.download('wordnet')\n",
        "nltk.download('omw-1.4')"
      ],
      "metadata": {
        "colab": {
          "base_uri": "https://localhost:8080/"
        },
        "id": "893hbdViS9gb",
        "outputId": "b5aa1085-eb82-4054-8513-98bf2862ef52"
      },
      "execution_count": 11,
      "outputs": [
        {
          "output_type": "stream",
          "name": "stderr",
          "text": [
            "[nltk_data] Downloading package stopwords to /root/nltk_data...\n",
            "[nltk_data]   Unzipping corpora/stopwords.zip.\n",
            "[nltk_data] Downloading package punkt to /root/nltk_data...\n",
            "[nltk_data]   Unzipping tokenizers/punkt.zip.\n",
            "[nltk_data] Downloading package wordnet to /root/nltk_data...\n",
            "[nltk_data] Downloading package omw-1.4 to /root/nltk_data...\n"
          ]
        },
        {
          "output_type": "execute_result",
          "data": {
            "text/plain": [
              "True"
            ]
          },
          "metadata": {},
          "execution_count": 11
        }
      ]
    },
    {
      "cell_type": "markdown",
      "source": [
        "# Performing Preprocessing"
      ],
      "metadata": {
        "id": "CEOfzzR2yoP8"
      }
    },
    {
      "cell_type": "code",
      "source": [
        "from nltk.corpus import stopwords\n",
        "stops = set(stopwords.words('english'))\n",
        "stopword = stopwords.words('english')"
      ],
      "metadata": {
        "id": "g1wCLZqQVikz"
      },
      "execution_count": 12,
      "outputs": []
    },
    {
      "cell_type": "code",
      "source": [
        "test = \"This is a test sentence. The best SENTENCES there could ever exist!! A an and the are stopwords?\"\n",
        "\n",
        "lower_text = test.lower()\n",
        "\n",
        "tokenizer = nltk.tokenize.RegexpTokenizer(r'\\w+')\n",
        "word_tokens = tokenizer.tokenize(lower_text)\n",
        "text_removed_stopwords = [word for word in word_tokens if word not in stopword]\n",
        "lemmatized_words = [wordnet_lemmatizer.lemmatize(word) for word in text_removed_stopwords]\n",
        "\n",
        "print(lower_text)\n",
        "print(text_removed_stopwords)\n",
        "print(lemmatized_words)"
      ],
      "metadata": {
        "id": "nnZkR7JmTNS8",
        "colab": {
          "base_uri": "https://localhost:8080/"
        },
        "outputId": "eb44a27b-fdfd-4974-bc08-b889c72eb855"
      },
      "execution_count": 13,
      "outputs": [
        {
          "output_type": "stream",
          "name": "stdout",
          "text": [
            "this is a test sentence. the best sentences there could ever exist!! a an and the are stopwords?\n",
            "['test', 'sentence', 'best', 'sentences', 'could', 'ever', 'exist', 'stopwords']\n",
            "['test', 'sentence', 'best', 'sentence', 'could', 'ever', 'exist', 'stopwords']\n"
          ]
        }
      ]
    },
    {
      "cell_type": "code",
      "source": [
        "regexp = nltk.tokenize.RegexpTokenizer('\\w+')\n",
        "word_lem= nltk.stem.WordNetLemmatizer()\n",
        "stopwords = nltk.corpus.stopwords.words(\"english\")"
      ],
      "metadata": {
        "id": "fVKQWKw5oARZ"
      },
      "execution_count": 14,
      "outputs": []
    },
    {
      "cell_type": "code",
      "source": [
        "columns=np.array(['Headline','Body Text'])\n",
        "train_hd_bd=labels[columns]\n",
        "df2 = train_hd_bd.apply(lambda x: x.astype(str).str.lower())\n",
        "keys=df2.keys()\n",
        "# df2[\"index\"]=pd.to_numeric(df2[\"index\"])\n",
        "\n",
        "for i in range(0,2):\n",
        "    df2[f\"{keys[i]}_proc\"]=df2[keys[i]].apply(word_lem.lemmatize)\n",
        "    df2[f\"{keys[i]}_proc\"]=df2[f\"{keys[i]}_proc\"].apply(regexp.tokenize)\n",
        "    df2[f\"{keys[i]}_proc\"]=df2[f\"{keys[i]}_proc\"].apply(lambda x: [word for word in x if word not in stopwords])\n",
        "# df_w2vTrain=df2.apply(lambda )\n",
        "display(df2.iloc[0:5])"
      ],
      "metadata": {
        "colab": {
          "base_uri": "https://localhost:8080/",
          "height": 206
        },
        "id": "haBvBXlXnwE1",
        "outputId": "f2c4e0a8-fb22-424d-80e8-38e47afe5185"
      },
      "execution_count": 15,
      "outputs": [
        {
          "output_type": "display_data",
          "data": {
            "text/plain": [
              "                                            Headline  \\\n",
              "0     soldier shot near canadian parliament building   \n",
              "1  caught a catfish record in po: 127 kg and 2.67...   \n",
              "2  enormous 20-stone catfish caught with fishing ...   \n",
              "3             soldier shot at war memorial in canada   \n",
              "4  a soldier has been shot at canada’s war memori...   \n",
              "\n",
              "                                           Body Text  \\\n",
              "0  a small meteorite crashed into a wooded area i...   \n",
              "1  a small meteorite crashed into a wooded area i...   \n",
              "2  a small meteorite crashed into a wooded area i...   \n",
              "3  a small meteorite crashed into a wooded area i...   \n",
              "4  a small meteorite crashed into a wooded area i...   \n",
              "\n",
              "                                       Headline_proc  \\\n",
              "0  [soldier, shot, near, canadian, parliament, bu...   \n",
              "1  [caught, catfish, record, po, 127, kg, 2, 67, ...   \n",
              "2  [enormous, 20, stone, catfish, caught, fishing...   \n",
              "3             [soldier, shot, war, memorial, canada]   \n",
              "4  [soldier, shot, canada, war, memorial, steps, ...   \n",
              "\n",
              "                                      Body Text_proc  \n",
              "0  [small, meteorite, crashed, wooded, area, nica...  \n",
              "1  [small, meteorite, crashed, wooded, area, nica...  \n",
              "2  [small, meteorite, crashed, wooded, area, nica...  \n",
              "3  [small, meteorite, crashed, wooded, area, nica...  \n",
              "4  [small, meteorite, crashed, wooded, area, nica...  "
            ],
            "text/html": [
              "\n",
              "  <div id=\"df-8694c1a8-db0e-4ac5-bbfe-992a87cbd2ae\">\n",
              "    <div class=\"colab-df-container\">\n",
              "      <div>\n",
              "<style scoped>\n",
              "    .dataframe tbody tr th:only-of-type {\n",
              "        vertical-align: middle;\n",
              "    }\n",
              "\n",
              "    .dataframe tbody tr th {\n",
              "        vertical-align: top;\n",
              "    }\n",
              "\n",
              "    .dataframe thead th {\n",
              "        text-align: right;\n",
              "    }\n",
              "</style>\n",
              "<table border=\"1\" class=\"dataframe\">\n",
              "  <thead>\n",
              "    <tr style=\"text-align: right;\">\n",
              "      <th></th>\n",
              "      <th>Headline</th>\n",
              "      <th>Body Text</th>\n",
              "      <th>Headline_proc</th>\n",
              "      <th>Body Text_proc</th>\n",
              "    </tr>\n",
              "  </thead>\n",
              "  <tbody>\n",
              "    <tr>\n",
              "      <th>0</th>\n",
              "      <td>soldier shot near canadian parliament building</td>\n",
              "      <td>a small meteorite crashed into a wooded area i...</td>\n",
              "      <td>[soldier, shot, near, canadian, parliament, bu...</td>\n",
              "      <td>[small, meteorite, crashed, wooded, area, nica...</td>\n",
              "    </tr>\n",
              "    <tr>\n",
              "      <th>1</th>\n",
              "      <td>caught a catfish record in po: 127 kg and 2.67...</td>\n",
              "      <td>a small meteorite crashed into a wooded area i...</td>\n",
              "      <td>[caught, catfish, record, po, 127, kg, 2, 67, ...</td>\n",
              "      <td>[small, meteorite, crashed, wooded, area, nica...</td>\n",
              "    </tr>\n",
              "    <tr>\n",
              "      <th>2</th>\n",
              "      <td>enormous 20-stone catfish caught with fishing ...</td>\n",
              "      <td>a small meteorite crashed into a wooded area i...</td>\n",
              "      <td>[enormous, 20, stone, catfish, caught, fishing...</td>\n",
              "      <td>[small, meteorite, crashed, wooded, area, nica...</td>\n",
              "    </tr>\n",
              "    <tr>\n",
              "      <th>3</th>\n",
              "      <td>soldier shot at war memorial in canada</td>\n",
              "      <td>a small meteorite crashed into a wooded area i...</td>\n",
              "      <td>[soldier, shot, war, memorial, canada]</td>\n",
              "      <td>[small, meteorite, crashed, wooded, area, nica...</td>\n",
              "    </tr>\n",
              "    <tr>\n",
              "      <th>4</th>\n",
              "      <td>a soldier has been shot at canada’s war memori...</td>\n",
              "      <td>a small meteorite crashed into a wooded area i...</td>\n",
              "      <td>[soldier, shot, canada, war, memorial, steps, ...</td>\n",
              "      <td>[small, meteorite, crashed, wooded, area, nica...</td>\n",
              "    </tr>\n",
              "  </tbody>\n",
              "</table>\n",
              "</div>\n",
              "      <button class=\"colab-df-convert\" onclick=\"convertToInteractive('df-8694c1a8-db0e-4ac5-bbfe-992a87cbd2ae')\"\n",
              "              title=\"Convert this dataframe to an interactive table.\"\n",
              "              style=\"display:none;\">\n",
              "        \n",
              "  <svg xmlns=\"http://www.w3.org/2000/svg\" height=\"24px\"viewBox=\"0 0 24 24\"\n",
              "       width=\"24px\">\n",
              "    <path d=\"M0 0h24v24H0V0z\" fill=\"none\"/>\n",
              "    <path d=\"M18.56 5.44l.94 2.06.94-2.06 2.06-.94-2.06-.94-.94-2.06-.94 2.06-2.06.94zm-11 1L8.5 8.5l.94-2.06 2.06-.94-2.06-.94L8.5 2.5l-.94 2.06-2.06.94zm10 10l.94 2.06.94-2.06 2.06-.94-2.06-.94-.94-2.06-.94 2.06-2.06.94z\"/><path d=\"M17.41 7.96l-1.37-1.37c-.4-.4-.92-.59-1.43-.59-.52 0-1.04.2-1.43.59L10.3 9.45l-7.72 7.72c-.78.78-.78 2.05 0 2.83L4 21.41c.39.39.9.59 1.41.59.51 0 1.02-.2 1.41-.59l7.78-7.78 2.81-2.81c.8-.78.8-2.07 0-2.86zM5.41 20L4 18.59l7.72-7.72 1.47 1.35L5.41 20z\"/>\n",
              "  </svg>\n",
              "      </button>\n",
              "      \n",
              "  <style>\n",
              "    .colab-df-container {\n",
              "      display:flex;\n",
              "      flex-wrap:wrap;\n",
              "      gap: 12px;\n",
              "    }\n",
              "\n",
              "    .colab-df-convert {\n",
              "      background-color: #E8F0FE;\n",
              "      border: none;\n",
              "      border-radius: 50%;\n",
              "      cursor: pointer;\n",
              "      display: none;\n",
              "      fill: #1967D2;\n",
              "      height: 32px;\n",
              "      padding: 0 0 0 0;\n",
              "      width: 32px;\n",
              "    }\n",
              "\n",
              "    .colab-df-convert:hover {\n",
              "      background-color: #E2EBFA;\n",
              "      box-shadow: 0px 1px 2px rgba(60, 64, 67, 0.3), 0px 1px 3px 1px rgba(60, 64, 67, 0.15);\n",
              "      fill: #174EA6;\n",
              "    }\n",
              "\n",
              "    [theme=dark] .colab-df-convert {\n",
              "      background-color: #3B4455;\n",
              "      fill: #D2E3FC;\n",
              "    }\n",
              "\n",
              "    [theme=dark] .colab-df-convert:hover {\n",
              "      background-color: #434B5C;\n",
              "      box-shadow: 0px 1px 3px 1px rgba(0, 0, 0, 0.15);\n",
              "      filter: drop-shadow(0px 1px 2px rgba(0, 0, 0, 0.3));\n",
              "      fill: #FFFFFF;\n",
              "    }\n",
              "  </style>\n",
              "\n",
              "      <script>\n",
              "        const buttonEl =\n",
              "          document.querySelector('#df-8694c1a8-db0e-4ac5-bbfe-992a87cbd2ae button.colab-df-convert');\n",
              "        buttonEl.style.display =\n",
              "          google.colab.kernel.accessAllowed ? 'block' : 'none';\n",
              "\n",
              "        async function convertToInteractive(key) {\n",
              "          const element = document.querySelector('#df-8694c1a8-db0e-4ac5-bbfe-992a87cbd2ae');\n",
              "          const dataTable =\n",
              "            await google.colab.kernel.invokeFunction('convertToInteractive',\n",
              "                                                     [key], {});\n",
              "          if (!dataTable) return;\n",
              "\n",
              "          const docLinkHtml = 'Like what you see? Visit the ' +\n",
              "            '<a target=\"_blank\" href=https://colab.research.google.com/notebooks/data_table.ipynb>data table notebook</a>'\n",
              "            + ' to learn more about interactive tables.';\n",
              "          element.innerHTML = '';\n",
              "          dataTable['output_type'] = 'display_data';\n",
              "          await google.colab.output.renderOutput(dataTable, element);\n",
              "          const docLink = document.createElement('div');\n",
              "          docLink.innerHTML = docLinkHtml;\n",
              "          element.appendChild(docLink);\n",
              "        }\n",
              "      </script>\n",
              "    </div>\n",
              "  </div>\n",
              "  "
            ]
          },
          "metadata": {}
        }
      ]
    },
    {
      "cell_type": "code",
      "source": [
        "def extractData(df2, labels):\n",
        "  label_values = labels.iloc[:, 3]\n",
        "  heading = df2.iloc[: ,2]\n",
        "  body = df2.iloc[:, 3]\n",
        "  return heading, body, label_values"
      ],
      "metadata": {
        "id": "quSCpX8L8u4r"
      },
      "execution_count": 16,
      "outputs": []
    },
    {
      "cell_type": "code",
      "source": [
        "heading, body, label_values = extractData(df2, labels)\n",
        "print(heading.shape)\n",
        "print(body.shape)\n",
        "print(label_values.shape)"
      ],
      "metadata": {
        "colab": {
          "base_uri": "https://localhost:8080/"
        },
        "id": "flDMICFC6M2T",
        "outputId": "0f0c6a2f-b252-4e50-bb6b-3747a536a066"
      },
      "execution_count": 17,
      "outputs": [
        {
          "output_type": "stream",
          "name": "stdout",
          "text": [
            "(49972,)\n",
            "(49972,)\n",
            "(49972,)\n"
          ]
        }
      ]
    },
    {
      "cell_type": "markdown",
      "source": [
        "# Vectorizing the Keys"
      ],
      "metadata": {
        "id": "IUMiEZbuytrQ"
      }
    },
    {
      "cell_type": "code",
      "source": [
        "keys1=df2.keys()\n",
        "\n",
        "df2_w2vTrain=df2[keys1[len(keys)]]\n",
        "\n",
        "print(range(len(keys)+1,len(keys1)))\n",
        "for i in range(len(keys)+1,len(keys1)):\n",
        "    df2_w2vTrain=df2_w2vTrain+df2[keys1[i]]\n",
        "\n",
        "print(df2_w2vTrain.iloc[0:5])"
      ],
      "metadata": {
        "colab": {
          "base_uri": "https://localhost:8080/"
        },
        "id": "S9AIHKRfvUbR",
        "outputId": "b13884f3-3fb2-47f2-cba9-419095e07344"
      },
      "execution_count": 18,
      "outputs": [
        {
          "output_type": "stream",
          "name": "stdout",
          "text": [
            "range(3, 4)\n",
            "0    [soldier, shot, near, canadian, parliament, bu...\n",
            "1    [caught, catfish, record, po, 127, kg, 2, 67, ...\n",
            "2    [enormous, 20, stone, catfish, caught, fishing...\n",
            "3    [soldier, shot, war, memorial, canada, small, ...\n",
            "4    [soldier, shot, canada, war, memorial, steps, ...\n",
            "dtype: object\n"
          ]
        }
      ]
    },
    {
      "cell_type": "code",
      "source": [
        "import gensim\n",
        "from gensim.models import Word2Vec"
      ],
      "metadata": {
        "id": "oCQViTVJpsFd"
      },
      "execution_count": 19,
      "outputs": []
    },
    {
      "cell_type": "code",
      "source": [
        "model = Word2Vec(window=10, min_count=1, workers=4)\n",
        "model.build_vocab(df2_w2vTrain, progress_per=1000)"
      ],
      "metadata": {
        "id": "k3cX_CNip3er"
      },
      "execution_count": 20,
      "outputs": []
    },
    {
      "cell_type": "code",
      "source": [
        "model.train(df2_w2vTrain, total_examples=model.corpus_count, epochs=model.epochs)"
      ],
      "metadata": {
        "colab": {
          "base_uri": "https://localhost:8080/"
        },
        "id": "X9efm41XwIsE",
        "outputId": "4ff6190d-23f8-4659-c322-37f7502b898f"
      },
      "execution_count": 21,
      "outputs": [
        {
          "output_type": "execute_result",
          "data": {
            "text/plain": [
              "(55454859, 56245705)"
            ]
          },
          "metadata": {},
          "execution_count": 21
        }
      ]
    },
    {
      "cell_type": "code",
      "source": [
        "word_vec = {}\n",
        "for idx, key in enumerate(model.wv.vocab):\n",
        "  word_vec[key] = model.wv[key]\n"
      ],
      "metadata": {
        "id": "U67goHs3wr31"
      },
      "execution_count": 22,
      "outputs": []
    },
    {
      "cell_type": "code",
      "source": [
        "def getMaxSentLength(a):\n",
        "  max_sentence_length = 0\n",
        "  for i in range(len(a)):\n",
        "    if (max_sentence_length < len(a[i])):\n",
        "      max_sentence_length = len(a[i])\n",
        "\n",
        "  return max_sentence_length"
      ],
      "metadata": {
        "id": "yFztFE5wvatk"
      },
      "execution_count": 23,
      "outputs": []
    },
    {
      "cell_type": "code",
      "source": [
        "heading_sentLength = getMaxSentLength(heading)\n",
        "body_sentLength = getMaxSentLength(body)\n",
        "NormLength = max(heading_sentLength, body_sentLength)\n",
        "print(heading_sentLength, body_sentLength)\n",
        "print(NormLength)"
      ],
      "metadata": {
        "colab": {
          "base_uri": "https://localhost:8080/"
        },
        "id": "xvTzn8dowTiv",
        "outputId": "3ceb0569-7e17-47ee-89f4-67ab173cf111"
      },
      "execution_count": 24,
      "outputs": [
        {
          "output_type": "stream",
          "name": "stdout",
          "text": [
            "29 2927\n",
            "2927\n"
          ]
        }
      ]
    },
    {
      "cell_type": "code",
      "source": [
        "import torch"
      ],
      "metadata": {
        "id": "OAYbOynZ2tnX"
      },
      "execution_count": 25,
      "outputs": []
    },
    {
      "cell_type": "code",
      "source": [
        "def getVecForm(sentence, word2vecLength, word_vec, max_sentLength):\n",
        "  sentence_vec = torch.zeros((max_sentLength, word2vecLength))\n",
        "  for i in range(len(sentence)):\n",
        "    sentence_vec[i] = torch.FloatTensor(word_vec[sentence[i]])\n",
        "\n",
        "  return sentence_vec"
      ],
      "metadata": {
        "id": "odYUHOY70KB2"
      },
      "execution_count": 26,
      "outputs": []
    },
    {
      "cell_type": "code",
      "source": [
        "head_body_df = pd.DataFrame(list(zip(heading, body)), columns =['Heading', 'Body'])\n",
        "display(head_body_df.iloc[0:5])"
      ],
      "metadata": {
        "id": "wXfL3hrL22m9",
        "colab": {
          "base_uri": "https://localhost:8080/",
          "height": 206
        },
        "outputId": "23f4f08d-100f-4ec9-a1c1-cc55fc9dd12f"
      },
      "execution_count": 27,
      "outputs": [
        {
          "output_type": "display_data",
          "data": {
            "text/plain": [
              "                                             Heading  \\\n",
              "0  [soldier, shot, near, canadian, parliament, bu...   \n",
              "1  [caught, catfish, record, po, 127, kg, 2, 67, ...   \n",
              "2  [enormous, 20, stone, catfish, caught, fishing...   \n",
              "3             [soldier, shot, war, memorial, canada]   \n",
              "4  [soldier, shot, canada, war, memorial, steps, ...   \n",
              "\n",
              "                                                Body  \n",
              "0  [small, meteorite, crashed, wooded, area, nica...  \n",
              "1  [small, meteorite, crashed, wooded, area, nica...  \n",
              "2  [small, meteorite, crashed, wooded, area, nica...  \n",
              "3  [small, meteorite, crashed, wooded, area, nica...  \n",
              "4  [small, meteorite, crashed, wooded, area, nica...  "
            ],
            "text/html": [
              "\n",
              "  <div id=\"df-6f50f2d5-b6c1-4c78-95e5-87a8642a37da\">\n",
              "    <div class=\"colab-df-container\">\n",
              "      <div>\n",
              "<style scoped>\n",
              "    .dataframe tbody tr th:only-of-type {\n",
              "        vertical-align: middle;\n",
              "    }\n",
              "\n",
              "    .dataframe tbody tr th {\n",
              "        vertical-align: top;\n",
              "    }\n",
              "\n",
              "    .dataframe thead th {\n",
              "        text-align: right;\n",
              "    }\n",
              "</style>\n",
              "<table border=\"1\" class=\"dataframe\">\n",
              "  <thead>\n",
              "    <tr style=\"text-align: right;\">\n",
              "      <th></th>\n",
              "      <th>Heading</th>\n",
              "      <th>Body</th>\n",
              "    </tr>\n",
              "  </thead>\n",
              "  <tbody>\n",
              "    <tr>\n",
              "      <th>0</th>\n",
              "      <td>[soldier, shot, near, canadian, parliament, bu...</td>\n",
              "      <td>[small, meteorite, crashed, wooded, area, nica...</td>\n",
              "    </tr>\n",
              "    <tr>\n",
              "      <th>1</th>\n",
              "      <td>[caught, catfish, record, po, 127, kg, 2, 67, ...</td>\n",
              "      <td>[small, meteorite, crashed, wooded, area, nica...</td>\n",
              "    </tr>\n",
              "    <tr>\n",
              "      <th>2</th>\n",
              "      <td>[enormous, 20, stone, catfish, caught, fishing...</td>\n",
              "      <td>[small, meteorite, crashed, wooded, area, nica...</td>\n",
              "    </tr>\n",
              "    <tr>\n",
              "      <th>3</th>\n",
              "      <td>[soldier, shot, war, memorial, canada]</td>\n",
              "      <td>[small, meteorite, crashed, wooded, area, nica...</td>\n",
              "    </tr>\n",
              "    <tr>\n",
              "      <th>4</th>\n",
              "      <td>[soldier, shot, canada, war, memorial, steps, ...</td>\n",
              "      <td>[small, meteorite, crashed, wooded, area, nica...</td>\n",
              "    </tr>\n",
              "  </tbody>\n",
              "</table>\n",
              "</div>\n",
              "      <button class=\"colab-df-convert\" onclick=\"convertToInteractive('df-6f50f2d5-b6c1-4c78-95e5-87a8642a37da')\"\n",
              "              title=\"Convert this dataframe to an interactive table.\"\n",
              "              style=\"display:none;\">\n",
              "        \n",
              "  <svg xmlns=\"http://www.w3.org/2000/svg\" height=\"24px\"viewBox=\"0 0 24 24\"\n",
              "       width=\"24px\">\n",
              "    <path d=\"M0 0h24v24H0V0z\" fill=\"none\"/>\n",
              "    <path d=\"M18.56 5.44l.94 2.06.94-2.06 2.06-.94-2.06-.94-.94-2.06-.94 2.06-2.06.94zm-11 1L8.5 8.5l.94-2.06 2.06-.94-2.06-.94L8.5 2.5l-.94 2.06-2.06.94zm10 10l.94 2.06.94-2.06 2.06-.94-2.06-.94-.94-2.06-.94 2.06-2.06.94z\"/><path d=\"M17.41 7.96l-1.37-1.37c-.4-.4-.92-.59-1.43-.59-.52 0-1.04.2-1.43.59L10.3 9.45l-7.72 7.72c-.78.78-.78 2.05 0 2.83L4 21.41c.39.39.9.59 1.41.59.51 0 1.02-.2 1.41-.59l7.78-7.78 2.81-2.81c.8-.78.8-2.07 0-2.86zM5.41 20L4 18.59l7.72-7.72 1.47 1.35L5.41 20z\"/>\n",
              "  </svg>\n",
              "      </button>\n",
              "      \n",
              "  <style>\n",
              "    .colab-df-container {\n",
              "      display:flex;\n",
              "      flex-wrap:wrap;\n",
              "      gap: 12px;\n",
              "    }\n",
              "\n",
              "    .colab-df-convert {\n",
              "      background-color: #E8F0FE;\n",
              "      border: none;\n",
              "      border-radius: 50%;\n",
              "      cursor: pointer;\n",
              "      display: none;\n",
              "      fill: #1967D2;\n",
              "      height: 32px;\n",
              "      padding: 0 0 0 0;\n",
              "      width: 32px;\n",
              "    }\n",
              "\n",
              "    .colab-df-convert:hover {\n",
              "      background-color: #E2EBFA;\n",
              "      box-shadow: 0px 1px 2px rgba(60, 64, 67, 0.3), 0px 1px 3px 1px rgba(60, 64, 67, 0.15);\n",
              "      fill: #174EA6;\n",
              "    }\n",
              "\n",
              "    [theme=dark] .colab-df-convert {\n",
              "      background-color: #3B4455;\n",
              "      fill: #D2E3FC;\n",
              "    }\n",
              "\n",
              "    [theme=dark] .colab-df-convert:hover {\n",
              "      background-color: #434B5C;\n",
              "      box-shadow: 0px 1px 3px 1px rgba(0, 0, 0, 0.15);\n",
              "      filter: drop-shadow(0px 1px 2px rgba(0, 0, 0, 0.3));\n",
              "      fill: #FFFFFF;\n",
              "    }\n",
              "  </style>\n",
              "\n",
              "      <script>\n",
              "        const buttonEl =\n",
              "          document.querySelector('#df-6f50f2d5-b6c1-4c78-95e5-87a8642a37da button.colab-df-convert');\n",
              "        buttonEl.style.display =\n",
              "          google.colab.kernel.accessAllowed ? 'block' : 'none';\n",
              "\n",
              "        async function convertToInteractive(key) {\n",
              "          const element = document.querySelector('#df-6f50f2d5-b6c1-4c78-95e5-87a8642a37da');\n",
              "          const dataTable =\n",
              "            await google.colab.kernel.invokeFunction('convertToInteractive',\n",
              "                                                     [key], {});\n",
              "          if (!dataTable) return;\n",
              "\n",
              "          const docLinkHtml = 'Like what you see? Visit the ' +\n",
              "            '<a target=\"_blank\" href=https://colab.research.google.com/notebooks/data_table.ipynb>data table notebook</a>'\n",
              "            + ' to learn more about interactive tables.';\n",
              "          element.innerHTML = '';\n",
              "          dataTable['output_type'] = 'display_data';\n",
              "          await google.colab.output.renderOutput(dataTable, element);\n",
              "          const docLink = document.createElement('div');\n",
              "          docLink.innerHTML = docLinkHtml;\n",
              "          element.appendChild(docLink);\n",
              "        }\n",
              "      </script>\n",
              "    </div>\n",
              "  </div>\n",
              "  "
            ]
          },
          "metadata": {}
        }
      ]
    },
    {
      "cell_type": "code",
      "source": [
        "def getVecDataFrame(heading, body, label_values, NormLength, word2vecLength, word_vec):\n",
        "  head_vec = torch.zeros((len(heading), NormLength, word2vecLength))\n",
        "  for i in range(len(heading)):\n",
        "    head_vec[i] = getVecForm(heading[i], word2vecLength, word_vec, NormLength)\n",
        "\n",
        "  body_vec = torch.zeros((len(body), NormLength, word2vecLength))\n",
        "  for i in range(len(body)):\n",
        "    body_vec[i] = getVecForm(body[i], word2vecLength, word_vec, NormLength)  \n",
        "\n",
        "  headBody_vecDF = pd.DataFrame(list(zip(head_vec, body_vec, label_values)), columns =['Heading', 'Body', 'Labels'])\n",
        "  return headBody_vecDF, head_vec, body_vec"
      ],
      "metadata": {
        "id": "QdCBnmGh9Gh6"
      },
      "execution_count": 28,
      "outputs": []
    },
    {
      "cell_type": "code",
      "source": [
        "input_df, head_vec, body_vec = getVecDataFrame(heading, body, label_values, NormLength, 100, word_vec)\n",
        "print(head_vec.shape, body_vec.shape)"
      ],
      "metadata": {
        "id": "RoWSpm_668UV"
      },
      "execution_count": null,
      "outputs": []
    }
  ]
}